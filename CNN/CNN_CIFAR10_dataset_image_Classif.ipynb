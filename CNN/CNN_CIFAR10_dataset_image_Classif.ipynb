{
  "cells": [
    {
      "cell_type": "markdown",
      "metadata": {
        "id": "WP52WwJN86et"
      },
      "source": [
        "<h2 style='color:blue' align='center'>Small Image Classification Using Convolutional Neural Network (CNN)</h2>"
      ]
    },
    {
      "cell_type": "markdown",
      "metadata": {
        "id": "BSwzmmH086e3"
      },
      "source": [
        "In this notebook, we will classify small images cifar10 dataset from tensorflow keras datasets. There are total 10 classes as shown below. We will use CNN for classification"
      ]
    },
    {
      "cell_type": "markdown",
      "metadata": {
        "id": "tdyOCm5386f9"
      },
      "source": [
        "CNN\n",
        "\n",
        "https://youtube.com/playlist?list=PLuhqtP7jdD8CD6rOWy20INGM44kULvrHu&si=n2KnPiSKhgWTAl0e"
      ]
    },
    {
      "cell_type": "markdown",
      "metadata": {
        "id": "CwJOL-lf86e5"
      },
      "source": [
        "<img src=\"https://github.com/ShilpaSayuraML/DL-keras-tf-tutorial/blob/master/16_cnn_cifar10_small_image_classification/small_images.jpg?raw=1\" />"
      ]
    },
    {
      "cell_type": "code",
      "execution_count": null,
      "metadata": {
        "id": "yk47Ct0W86e7"
      },
      "outputs": [],
      "source": [
        "import tensorflow as tf\n",
        "from tensorflow.keras import datasets, layers, models\n",
        "import matplotlib.pyplot as plt\n",
        "import numpy as np"
      ]
    },
    {
      "cell_type": "markdown",
      "metadata": {
        "id": "AeORAL8q86fA"
      },
      "source": [
        "<h4 style=\"color:purple\">Load the dataset</h4>"
      ]
    },
    {
      "cell_type": "code",
      "execution_count": null,
      "metadata": {
        "colab": {
          "base_uri": "https://localhost:8080/"
        },
        "id": "z4vXN4eg86fC",
        "outputId": "04c913c4-e669-4fe4-8580-63e5425abcc0"
      },
      "outputs": [
        {
          "output_type": "stream",
          "name": "stdout",
          "text": [
            "Downloading data from https://www.cs.toronto.edu/~kriz/cifar-10-python.tar.gz\n",
            "170498071/170498071 [==============================] - 3s 0us/step\n"
          ]
        },
        {
          "output_type": "execute_result",
          "data": {
            "text/plain": [
              "(50000, 32, 32, 3)"
            ]
          },
          "metadata": {},
          "execution_count": 2
        }
      ],
      "source": [
        "(X_train, y_train), (X_test,y_test) = datasets.cifar10.load_data()\n",
        "X_train.shape"
      ]
    },
    {
      "cell_type": "code",
      "execution_count": null,
      "metadata": {
        "colab": {
          "base_uri": "https://localhost:8080/"
        },
        "id": "0f22VgdZ86fH",
        "outputId": "c4179880-c6ce-4c16-b96f-a711eaf278f0"
      },
      "outputs": [
        {
          "output_type": "execute_result",
          "data": {
            "text/plain": [
              "(10000, 32, 32, 3)"
            ]
          },
          "metadata": {},
          "execution_count": 3
        }
      ],
      "source": [
        "X_test.shape"
      ]
    },
    {
      "cell_type": "markdown",
      "metadata": {
        "id": "EirxtVmX86fK"
      },
      "source": [
        "Here we see there are 50000 training images and 1000 test images"
      ]
    },
    {
      "cell_type": "code",
      "execution_count": null,
      "metadata": {
        "id": "Od_LdRWA86fL",
        "outputId": "59ccde65-74ea-4bc8-858f-bbb2e787c522",
        "colab": {
          "base_uri": "https://localhost:8080/"
        }
      },
      "outputs": [
        {
          "output_type": "execute_result",
          "data": {
            "text/plain": [
              "(50000, 1)"
            ]
          },
          "metadata": {},
          "execution_count": 4
        }
      ],
      "source": [
        "y_train.shape"
      ]
    },
    {
      "cell_type": "code",
      "execution_count": null,
      "metadata": {
        "id": "ahe5sJSM86fO",
        "outputId": "d202cb31-9af2-4d5e-92a1-6f554da846c2",
        "colab": {
          "base_uri": "https://localhost:8080/"
        }
      },
      "outputs": [
        {
          "output_type": "execute_result",
          "data": {
            "text/plain": [
              "array([[6],\n",
              "       [9],\n",
              "       [9],\n",
              "       [4],\n",
              "       [1]], dtype=uint8)"
            ]
          },
          "metadata": {},
          "execution_count": 5
        }
      ],
      "source": [
        "y_train[:5]"
      ]
    },
    {
      "cell_type": "markdown",
      "metadata": {
        "id": "yji_IKzx86fQ"
      },
      "source": [
        "y_train is a 2D array, for our classification having 1D array is good enough. so we will convert this to now 1D array"
      ]
    },
    {
      "cell_type": "code",
      "execution_count": null,
      "metadata": {
        "scrolled": true,
        "id": "B1UqZJxT86fS",
        "outputId": "a6fbf7c1-975f-46fd-d5b8-027b3f34ee1c",
        "colab": {
          "base_uri": "https://localhost:8080/"
        }
      },
      "outputs": [
        {
          "output_type": "execute_result",
          "data": {
            "text/plain": [
              "array([6, 9, 9, 4, 1], dtype=uint8)"
            ]
          },
          "metadata": {},
          "execution_count": 6
        }
      ],
      "source": [
        "y_train = y_train.reshape(-1,)\n",
        "y_train[:5]"
      ]
    },
    {
      "cell_type": "code",
      "execution_count": null,
      "metadata": {
        "id": "vjvbcf0d86fU"
      },
      "outputs": [],
      "source": [
        "y_test = y_test.reshape(-1,)"
      ]
    },
    {
      "cell_type": "code",
      "execution_count": null,
      "metadata": {
        "id": "ZTAm5bAQ86fW"
      },
      "outputs": [],
      "source": [
        "classes = [\"airplane\",\"automobile\",\"bird\",\"cat\",\"deer\",\"dog\",\"frog\",\"horse\",\"ship\",\"truck\"]"
      ]
    },
    {
      "cell_type": "markdown",
      "metadata": {
        "id": "X7-4IoLC86fX"
      },
      "source": [
        "Let's plot some images to see what they are"
      ]
    },
    {
      "cell_type": "code",
      "execution_count": null,
      "metadata": {
        "id": "wIrTT3ig86fY"
      },
      "outputs": [],
      "source": [
        "def plot_sample(X, y, index):\n",
        "    plt.figure(figsize = (15,2))\n",
        "    plt.imshow(X[index])\n",
        "    plt.xlabel(classes[y[index]])"
      ]
    },
    {
      "cell_type": "code",
      "execution_count": null,
      "metadata": {
        "scrolled": true,
        "id": "qWYCSbBg86fa",
        "outputId": "b77bee11-3efc-4213-cab0-dc7180b7509c",
        "colab": {
          "base_uri": "https://localhost:8080/",
          "height": 237
        }
      },
      "outputs": [
        {
          "output_type": "display_data",
          "data": {
            "text/plain": [
              "<Figure size 1500x200 with 1 Axes>"
            ],
            "image/png": "[encoded data removed]"
          },
          "metadata": {}
        }
      ],
      "source": [
        "plot_sample(X_train, y_train, 0)"
      ]
    },
    {
      "cell_type": "code",
      "execution_count": null,
      "metadata": {
        "id": "_iQG8A1I86fd",
        "outputId": "4e5186f1-c54c-46f5-b0f1-9a91a9c117ad",
        "colab": {
          "base_uri": "https://localhost:8080/",
          "height": 237
        }
      },
      "outputs": [
        {
          "output_type": "display_data",
          "data": {
            "text/plain": [
              "<Figure size 1500x200 with 1 Axes>"
            ],
            "image/png": "[encoded data removed]"
          },
          "metadata": {}
        }
      ],
      "source": [
        "plot_sample(X_train, y_train, 1)"
      ]
    },
    {
      "cell_type": "markdown",
      "metadata": {
        "id": "RF4dqbKV86ff"
      },
      "source": [
        "Normalize the images to a number from 0 to 1. Image has 3 channels (R,G,B) and each value in the channel can range from 0 to 255. Hence to normalize in 0-->1 range, we need to divide it by 255"
      ]
    },
    {
      "cell_type": "markdown",
      "metadata": {
        "id": "gIOyACBc86fh"
      },
      "source": [
        "<h4 style=\"color:purple\">Normalizing the training data</h4>"
      ]
    },
    {
      "cell_type": "code",
      "execution_count": null,
      "metadata": {
        "id": "-mZwN6bT86fi"
      },
      "outputs": [],
      "source": [
        "X_train = X_train / 255.0\n",
        "X_test = X_test / 255.0"
      ]
    },
    {
      "cell_type": "markdown",
      "metadata": {
        "id": "8tsXpxaR86fk"
      },
      "source": [
        "<h4 style=\"color:purple\">Build simple artificial neural network for image classification</h4>"
      ]
    },
    {
      "cell_type": "code",
      "execution_count": null,
      "metadata": {
        "scrolled": true,
        "id": "NXvZJPLa86fl",
        "outputId": "2338c7d3-1195-4fdc-885c-76ed37f4f066",
        "colab": {
          "base_uri": "https://localhost:8080/"
        }
      },
      "outputs": [
        {
          "output_type": "stream",
          "name": "stdout",
          "text": [
            "Epoch 1/5\n",
            "1563/1563 [==============================] - 149s 95ms/step - loss: 1.8134 - accuracy: 0.3536\n",
            "Epoch 2/5\n",
            "1563/1563 [==============================] - 144s 92ms/step - loss: 1.6262 - accuracy: 0.4248\n",
            "Epoch 3/5\n",
            "1563/1563 [==============================] - 143s 91ms/step - loss: 1.5459 - accuracy: 0.4549\n",
            "Epoch 4/5\n",
            "1563/1563 [==============================] - 143s 92ms/step - loss: 1.4862 - accuracy: 0.4767\n",
            "Epoch 5/5\n",
            "1563/1563 [==============================] - 151s 97ms/step - loss: 1.4355 - accuracy: 0.4942\n"
          ]
        },
        {
          "output_type": "execute_result",
          "data": {
            "text/plain": [
              "<keras.callbacks.History at 0x7b380478cdf0>"
            ]
          },
          "metadata": {},
          "execution_count": 13
        }
      ],
      "source": [
        "ann = models.Sequential([\n",
        "        layers.Flatten(input_shape=(32,32,3)),\n",
        "        layers.Dense(3000, activation='relu'),\n",
        "        layers.Dense(1000, activation='relu'),\n",
        "        layers.Dense(10, activation='softmax')\n",
        "    ])\n",
        "\n",
        "ann.compile(optimizer='SGD',\n",
        "              loss='sparse_categorical_crossentropy',\n",
        "              metrics=['accuracy'])\n",
        "\n",
        "ann.fit(X_train, y_train, epochs=5)"
      ]
    },
    {
      "cell_type": "markdown",
      "metadata": {
        "id": "c60FZVyO86fn"
      },
      "source": [
        "**You can see that at the end of 5 epochs, accuracy is at around 49%**"
      ]
    },
    {
      "cell_type": "code",
      "execution_count": null,
      "metadata": {
        "id": "hg4zChhP86fp",
        "outputId": "ff3d2280-4328-4785-c499-f41657cbbe8d"
      },
      "outputs": [
        {
          "name": "stdout",
          "output_type": "stream",
          "text": [
            "Classification Report: \n",
            "               precision    recall  f1-score   support\n",
            "\n",
            "           0       0.63      0.45      0.53      1000\n",
            "           1       0.72      0.46      0.56      1000\n",
            "           2       0.33      0.46      0.39      1000\n",
            "           3       0.36      0.25      0.29      1000\n",
            "           4       0.44      0.37      0.40      1000\n",
            "           5       0.34      0.46      0.39      1000\n",
            "           6       0.56      0.47      0.51      1000\n",
            "           7       0.39      0.67      0.50      1000\n",
            "           8       0.64      0.60      0.62      1000\n",
            "           9       0.59      0.53      0.55      1000\n",
            "\n",
            "    accuracy                           0.47     10000\n",
            "   macro avg       0.50      0.47      0.47     10000\n",
            "weighted avg       0.50      0.47      0.47     10000\n",
            "\n"
          ]
        }
      ],
      "source": [
        "from sklearn.metrics import confusion_matrix , classification_report\n",
        "import numpy as np\n",
        "y_pred = ann.predict(X_test)\n",
        "y_pred_classes = [np.argmax(element) for element in y_pred]\n",
        "\n",
        "print(\"Classification Report: \\n\", classification_report(y_test, y_pred_classes))"
      ]
    },
    {
      "cell_type": "markdown",
      "metadata": {
        "id": "teKPuDbE86fr"
      },
      "source": [
        "<h4 style=\"color:purple\">Now let us build a convolutional neural network to train our images</h4>"
      ]
    },
    {
      "cell_type": "code",
      "execution_count": null,
      "metadata": {
        "id": "aU4NU4jQ86fs"
      },
      "outputs": [],
      "source": [
        "cnn = models.Sequential([\n",
        "    layers.Conv2D(filters=32, kernel_size=(3, 3), activation='relu', input_shape=(32, 32, 3)),\n",
        "    layers.MaxPooling2D((2, 2)),\n",
        "\n",
        "    layers.Conv2D(filters=64, kernel_size=(3, 3), activation='relu'),\n",
        "    layers.MaxPooling2D((2, 2)),\n",
        "\n",
        "    layers.Flatten(),\n",
        "    layers.Dense(64, activation='relu'),\n",
        "    layers.Dense(10, activation='softmax')\n",
        "])"
      ]
    },
    {
      "cell_type": "code",
      "execution_count": null,
      "metadata": {
        "id": "wo9J0xtH86fu"
      },
      "outputs": [],
      "source": [
        "cnn.compile(optimizer='adam',\n",
        "              loss='sparse_categorical_crossentropy',\n",
        "              metrics=['accuracy'])"
      ]
    },
    {
      "cell_type": "code",
      "execution_count": null,
      "metadata": {
        "scrolled": false,
        "id": "3ENF0FpQ86fv",
        "outputId": "4810bceb-755b-4412-89cf-f3a3dfa80939"
      },
      "outputs": [
        {
          "name": "stdout",
          "output_type": "stream",
          "text": [
            "Epoch 1/10\n",
            "1563/1563 [==============================] - 2s 2ms/step - loss: 1.4407 - accuracy: 0.4810\n",
            "Epoch 2/10\n",
            "1563/1563 [==============================] - 2s 2ms/step - loss: 1.1084 - accuracy: 0.6109\n",
            "Epoch 3/10\n",
            "1563/1563 [==============================] - 2s 2ms/step - loss: 0.9895 - accuracy: 0.6574\n",
            "Epoch 4/10\n",
            "1563/1563 [==============================] - 2s 2ms/step - loss: 0.9071 - accuracy: 0.6870\n",
            "Epoch 5/10\n",
            "1563/1563 [==============================] - 2s 2ms/step - loss: 0.8416 - accuracy: 0.7097\n",
            "Epoch 6/10\n",
            "1563/1563 [==============================] - 2s 2ms/step - loss: 0.7847 - accuracy: 0.7262\n",
            "Epoch 7/10\n",
            "1563/1563 [==============================] - 2s 2ms/step - loss: 0.7350 - accuracy: 0.7448\n",
            "Epoch 8/10\n",
            "1563/1563 [==============================] - 2s 2ms/step - loss: 0.6941 - accuracy: 0.7574\n",
            "Epoch 9/10\n",
            "1563/1563 [==============================] - 2s 1ms/step - loss: 0.6516 - accuracy: 0.7731\n",
            "Epoch 10/10\n",
            "1563/1563 [==============================] - 2s 2ms/step - loss: 0.6187 - accuracy: 0.7836\n"
          ]
        },
        {
          "data": {
            "text/plain": [
              "<tensorflow.python.keras.callbacks.History at 0x296555783d0>"
            ]
          },
          "execution_count": 17,
          "metadata": {},
          "output_type": "execute_result"
        }
      ],
      "source": [
        "cnn.fit(X_train, y_train, epochs=10)"
      ]
    },
    {
      "cell_type": "markdown",
      "metadata": {
        "id": "KoVUoLvF86fx"
      },
      "source": [
        "**With CNN, at the end 5 epochs, accuracy was at around 70% which is a significant improvement over ANN. CNN's are best for image classification and gives superb accuracy. Also computation is much less compared to simple ANN as maxpooling reduces the image dimensions while still preserving the features**"
      ]
    },
    {
      "cell_type": "code",
      "execution_count": null,
      "metadata": {
        "scrolled": true,
        "id": "9lI7GAoe86fy",
        "outputId": "18409a42-8126-439f-bc73-254358035b72"
      },
      "outputs": [
        {
          "name": "stdout",
          "output_type": "stream",
          "text": [
            "313/313 [==============================] - 0s 1ms/step - loss: 0.9022 - accuracy: 0.7028\n"
          ]
        },
        {
          "data": {
            "text/plain": [
              "[0.9021560549736023, 0.7027999758720398]"
            ]
          },
          "execution_count": 18,
          "metadata": {},
          "output_type": "execute_result"
        }
      ],
      "source": [
        "cnn.evaluate(X_test,y_test)"
      ]
    },
    {
      "cell_type": "code",
      "execution_count": null,
      "metadata": {
        "id": "QF-TkKDU86f0",
        "outputId": "aa7be1b8-6d8c-4804-8236-33e1c6ef0b32"
      },
      "outputs": [
        {
          "data": {
            "text/plain": [
              "array([[4.3996371e-04, 3.4844263e-05, 1.5558505e-03, 8.8400185e-01,\n",
              "        1.9452239e-04, 3.5314459e-02, 7.2777577e-02, 6.9044131e-06,\n",
              "        5.6417785e-03, 3.2224660e-05],\n",
              "       [8.1062522e-03, 5.0841425e-02, 1.2453231e-07, 5.3348430e-07,\n",
              "        9.1728407e-07, 1.0009186e-08, 2.8985988e-07, 1.7532484e-09,\n",
              "        9.4089705e-01, 1.5346886e-04],\n",
              "       [1.7055811e-02, 1.1841061e-01, 4.6799007e-05, 2.7727904e-02,\n",
              "        1.0848254e-03, 1.0896578e-03, 1.3575243e-04, 2.8652203e-04,\n",
              "        7.8895986e-01, 4.5202184e-02],\n",
              "       [3.1300801e-01, 1.1591638e-02, 1.1511055e-02, 3.9592334e-03,\n",
              "        7.7280165e-03, 5.6289224e-05, 2.3531138e-04, 9.4204297e-06,\n",
              "        6.5178138e-01, 1.1968113e-04],\n",
              "       [1.3230885e-05, 2.1221960e-05, 9.2594400e-02, 3.3585075e-02,\n",
              "        4.4722903e-01, 4.1028224e-03, 4.2241842e-01, 2.8064171e-05,\n",
              "        6.6392668e-06, 1.0745022e-06]], dtype=float32)"
            ]
          },
          "execution_count": 19,
          "metadata": {},
          "output_type": "execute_result"
        }
      ],
      "source": [
        "y_pred = cnn.predict(X_test)\n",
        "y_pred[:5]"
      ]
    },
    {
      "cell_type": "code",
      "execution_count": null,
      "metadata": {
        "id": "rJADVgjd86f2",
        "outputId": "fd371ebe-d3ee-43dd-d106-20669304b302"
      },
      "outputs": [
        {
          "data": {
            "text/plain": [
              "[3, 8, 8, 8, 4]"
            ]
          },
          "execution_count": 20,
          "metadata": {},
          "output_type": "execute_result"
        }
      ],
      "source": [
        "y_classes = [np.argmax(element) for element in y_pred]\n",
        "y_classes[:5]"
      ]
    },
    {
      "cell_type": "code",
      "execution_count": null,
      "metadata": {
        "id": "6alPhL4N86f3",
        "outputId": "81e39cbd-eb9d-4643-c05b-21d9f46dde94"
      },
      "outputs": [
        {
          "data": {
            "text/plain": [
              "array([3, 8, 8, 0, 6], dtype=uint8)"
            ]
          },
          "execution_count": 21,
          "metadata": {},
          "output_type": "execute_result"
        }
      ],
      "source": [
        "y_test[:5]"
      ]
    },
    {
      "cell_type": "code",
      "execution_count": null,
      "metadata": {
        "id": "DHSZTB3C86f5",
        "outputId": "0bbcefc6-4265-4d12-d060-7bb141550d85"
      },
      "outputs": [
        {
          "data": {
            "image/png": "[encoded data removed]",
            "text/plain": [
              "<Figure size 1080x144 with 1 Axes>"
            ]
          },
          "metadata": {
            "needs_background": "light"
          },
          "output_type": "display_data"
        }
      ],
      "source": [
        "plot_sample(X_test, y_test,3)"
      ]
    },
    {
      "cell_type": "code",
      "execution_count": null,
      "metadata": {
        "id": "VGijojZB86f6",
        "outputId": "adad8825-6060-4b4c-d242-2a70ea79c209"
      },
      "outputs": [
        {
          "data": {
            "text/plain": [
              "'ship'"
            ]
          },
          "execution_count": 23,
          "metadata": {},
          "output_type": "execute_result"
        }
      ],
      "source": [
        "classes[y_classes[3]]"
      ]
    }
  ],
  "metadata": {
    "kernelspec": {
      "display_name": "Python 3",
      "language": "python",
      "name": "python3"
    },
    "language_info": {
      "codemirror_mode": {
        "name": "ipython",
        "version": 3
      },
      "file_extension": ".py",
      "mimetype": "text/x-python",
      "name": "python",
      "nbconvert_exporter": "python",
      "pygments_lexer": "ipython3",
      "version": "3.8.5"
    },
    "colab": {
      "provenance": []
    }
  },
  "nbformat": 4,
  "nbformat_minor": 0
}