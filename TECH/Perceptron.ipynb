{
  "nbformat": 4,
  "nbformat_minor": 0,
  "metadata": {
    "colab": {
      "provenance": []
    },
    "kernelspec": {
      "name": "python3",
      "display_name": "Python 3"
    },
    "language_info": {
      "name": "python"
    }
  },
  "cells": [
    {
      "cell_type": "markdown",
      "source": [
        "# Perceptron\n",
        "A perceptron is a fundamental unit in neural networks\n",
        "![how-to-train-a-basic-perceptron-neural-network_rk_aac_image1.jpg](data:image/jpeg;base64,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)"
      ],
      "metadata": {
        "id": "fiYpjKct327J"
      }
    },
    {
      "cell_type": "markdown",
      "source": [
        "A basic Perceptron implementation for binary classification:"
      ],
      "metadata": {
        "id": "SRIPyr2Q33wb"
      }
    },
    {
      "cell_type": "code",
      "execution_count": 1,
      "metadata": {
        "colab": {
          "base_uri": "https://localhost:8080/",
          "height": 0
        },
        "id": "Y7RQO-NZ31zN",
        "outputId": "08e7e8bb-391b-4108-8f96-5000c79cc38c"
      },
      "outputs": [
        {
          "output_type": "stream",
          "name": "stdout",
          "text": [
            "Predictions: [0, 0, 0, 1]\n"
          ]
        }
      ],
      "source": [
        "import numpy as np\n",
        "\n",
        "class Perceptron:\n",
        "    def __init__(self, num_features,  learning_rate=0.1, epochs=50):\n",
        "        self.weights = np.zeros(num_features)\n",
        "        self.bias = 0\n",
        "        self.learning_rate = learning_rate\n",
        "        self.epochs = epochs\n",
        "\n",
        "    def activation(self, z):\n",
        "        return 1 if z >= 0 else 0\n",
        "\n",
        "    def train(self, X, y):\n",
        "        for _ in range(self.epochs):\n",
        "            for i in range(len(X)):\n",
        "                prediction = self.activation(np.dot(X[i], self.weights) + self.bias)\n",
        "                error = y[i] - prediction\n",
        "                self.weights += self.learning_rate * error * X[i]\n",
        "                self.bias += self.learning_rate * error\n",
        "\n",
        "    def predict(self, X):\n",
        "        predictions = []\n",
        "        for i in range(len(X)):\n",
        "            prediction = self.activation(np.dot(X[i], self.weights) + self.bias)\n",
        "            predictions.append(prediction)\n",
        "        return predictions\n",
        "\n",
        "# Example training data\n",
        "X_train = np.array([[0, 0], [0, 1], [1, 0], [1, 1]])\n",
        "y_train = np.array([0, 0, 0, 1])\n",
        "\n",
        "# Create and train the Perceptron\n",
        "perceptron = Perceptron(num_features=2)\n",
        "perceptron.train(X_train, y_train)\n",
        "\n",
        "# Example test data\n",
        "X_test = np.array([[0, 0], [0, 1], [1, 0], [1, 1]])\n",
        "\n",
        "# Perform predictions\n",
        "predictions = perceptron.predict(X_test)\n",
        "\n",
        "print(\"Predictions:\", predictions)\n"
      ]
    },
    {
      "cell_type": "markdown",
      "source": [
        "perform inference using the trained Perceptron model:"
      ],
      "metadata": {
        "id": "jGqsuaTa4yts"
      }
    },
    {
      "cell_type": "markdown",
      "source": [
        "Perceptron Using Keras"
      ],
      "metadata": {
        "id": "ZFFu8DLZ5tt2"
      }
    },
    {
      "cell_type": "code",
      "source": [
        "# Example trained Perceptron from the previous code snippet\n",
        "\n",
        "# Trained Perceptron weights and bias\n",
        "trained_weights = np.array([0.2, -0.3])\n",
        "trained_bias = 0.1\n",
        "\n",
        "# New data for inference\n",
        "new_data = np.array([[0, 1], [1, 0], [1, 1]])\n",
        "\n",
        "# Create an instance of the Perceptron with the trained weights and bias\n",
        "inference_perceptron = Perceptron(num_features=2)\n",
        "inference_perceptron.weights = trained_weights\n",
        "inference_perceptron.bias = trained_bias\n",
        "\n",
        "# Perform inference\n",
        "inference_predictions = inference_perceptron.predict(new_data)\n",
        "\n",
        "print(\"Inference Predictions:\", inference_predictions)\n"
      ],
      "metadata": {
        "colab": {
          "base_uri": "https://localhost:8080/",
          "height": 0
        },
        "id": "O4bXqZ3f42dF",
        "outputId": "240b3d49-612a-4e59-981c-f14c0acd5401"
      },
      "execution_count": 2,
      "outputs": [
        {
          "output_type": "stream",
          "name": "stdout",
          "text": [
            "Inference Predictions: [0, 1, 1]\n"
          ]
        }
      ]
    },
    {
      "cell_type": "code",
      "source": [
        "import numpy as np\n",
        "from tensorflow import keras\n",
        "from tensorflow.keras.models import Sequential\n",
        "from tensorflow.keras.layers import Dense\n",
        "\n",
        "# Example training data\n",
        "X_train = np.array([[0, 0], [0, 1], [1, 0], [1, 1]])\n",
        "y_train = np.array([0, 0, 0, 1])\n",
        "\n",
        "# Create a Sequential model\n",
        "model = Sequential()\n",
        "\n",
        "# Add a single Dense layer for the Perceptron\n",
        "model.add(Dense(units=1, activation='sigmoid', input_dim=2))\n",
        "\n",
        "# Compile the model\n",
        "model.compile(optimizer='sgd', loss='binary_crossentropy', metrics=['accuracy'])\n",
        "\n",
        "# Train the model\n",
        "model.fit(X_train, y_train, epochs=50)\n",
        "\n",
        "# Example test data\n",
        "X_test = np.array([[0, 0], [0, 1], [1, 0], [1, 1]])\n",
        "\n",
        "# Perform predictions\n",
        "predictions = model.predict(X_test)\n",
        "print(\"Predictions:\", predictions)\n"
      ],
      "metadata": {
        "colab": {
          "base_uri": "https://localhost:8080/",
          "height": 0
        },
        "id": "qWIE08rg5wB9",
        "outputId": "712c2cf4-bbd5-46dd-8d6c-5001da6bf5ca"
      },
      "execution_count": 3,
      "outputs": [
        {
          "output_type": "stream",
          "name": "stdout",
          "text": [
            "Epoch 1/50\n",
            "1/1 [==============================] - 1s 706ms/step - loss: 0.8263 - accuracy: 0.7500\n",
            "Epoch 2/50\n",
            "1/1 [==============================] - 0s 15ms/step - loss: 0.8259 - accuracy: 0.7500\n",
            "Epoch 3/50\n",
            "1/1 [==============================] - 0s 13ms/step - loss: 0.8255 - accuracy: 0.7500\n",
            "Epoch 4/50\n",
            "1/1 [==============================] - 0s 12ms/step - loss: 0.8251 - accuracy: 0.7500\n",
            "Epoch 5/50\n",
            "1/1 [==============================] - 0s 17ms/step - loss: 0.8246 - accuracy: 0.7500\n",
            "Epoch 6/50\n",
            "1/1 [==============================] - 0s 11ms/step - loss: 0.8242 - accuracy: 0.7500\n",
            "Epoch 7/50\n",
            "1/1 [==============================] - 0s 9ms/step - loss: 0.8238 - accuracy: 0.7500\n",
            "Epoch 8/50\n",
            "1/1 [==============================] - 0s 15ms/step - loss: 0.8234 - accuracy: 0.7500\n",
            "Epoch 9/50\n",
            "1/1 [==============================] - 0s 10ms/step - loss: 0.8230 - accuracy: 0.7500\n",
            "Epoch 10/50\n",
            "1/1 [==============================] - 0s 10ms/step - loss: 0.8225 - accuracy: 0.7500\n",
            "Epoch 11/50\n",
            "1/1 [==============================] - 0s 11ms/step - loss: 0.8221 - accuracy: 0.7500\n",
            "Epoch 12/50\n",
            "1/1 [==============================] - 0s 11ms/step - loss: 0.8217 - accuracy: 0.7500\n",
            "Epoch 13/50\n",
            "1/1 [==============================] - 0s 15ms/step - loss: 0.8213 - accuracy: 0.7500\n",
            "Epoch 14/50\n",
            "1/1 [==============================] - 0s 13ms/step - loss: 0.8208 - accuracy: 0.7500\n",
            "Epoch 15/50\n",
            "1/1 [==============================] - 0s 12ms/step - loss: 0.8204 - accuracy: 0.7500\n",
            "Epoch 16/50\n",
            "1/1 [==============================] - 0s 11ms/step - loss: 0.8200 - accuracy: 0.7500\n",
            "Epoch 17/50\n",
            "1/1 [==============================] - 0s 9ms/step - loss: 0.8196 - accuracy: 0.7500\n",
            "Epoch 18/50\n",
            "1/1 [==============================] - 0s 10ms/step - loss: 0.8192 - accuracy: 0.7500\n",
            "Epoch 19/50\n",
            "1/1 [==============================] - 0s 15ms/step - loss: 0.8188 - accuracy: 0.7500\n",
            "Epoch 20/50\n",
            "1/1 [==============================] - 0s 10ms/step - loss: 0.8183 - accuracy: 0.7500\n",
            "Epoch 21/50\n",
            "1/1 [==============================] - 0s 10ms/step - loss: 0.8179 - accuracy: 0.7500\n",
            "Epoch 22/50\n",
            "1/1 [==============================] - 0s 10ms/step - loss: 0.8175 - accuracy: 0.7500\n",
            "Epoch 23/50\n",
            "1/1 [==============================] - 0s 10ms/step - loss: 0.8171 - accuracy: 0.7500\n",
            "Epoch 24/50\n",
            "1/1 [==============================] - 0s 9ms/step - loss: 0.8167 - accuracy: 0.7500\n",
            "Epoch 25/50\n",
            "1/1 [==============================] - 0s 10ms/step - loss: 0.8163 - accuracy: 0.7500\n",
            "Epoch 26/50\n",
            "1/1 [==============================] - 0s 9ms/step - loss: 0.8158 - accuracy: 0.7500\n",
            "Epoch 27/50\n",
            "1/1 [==============================] - 0s 11ms/step - loss: 0.8154 - accuracy: 0.7500\n",
            "Epoch 28/50\n",
            "1/1 [==============================] - 0s 10ms/step - loss: 0.8150 - accuracy: 0.7500\n",
            "Epoch 29/50\n",
            "1/1 [==============================] - 0s 10ms/step - loss: 0.8146 - accuracy: 0.7500\n",
            "Epoch 30/50\n",
            "1/1 [==============================] - 0s 10ms/step - loss: 0.8142 - accuracy: 0.7500\n",
            "Epoch 31/50\n",
            "1/1 [==============================] - 0s 9ms/step - loss: 0.8138 - accuracy: 0.7500\n",
            "Epoch 32/50\n",
            "1/1 [==============================] - 0s 13ms/step - loss: 0.8134 - accuracy: 0.7500\n",
            "Epoch 33/50\n",
            "1/1 [==============================] - 0s 9ms/step - loss: 0.8130 - accuracy: 0.7500\n",
            "Epoch 34/50\n",
            "1/1 [==============================] - 0s 10ms/step - loss: 0.8125 - accuracy: 0.7500\n",
            "Epoch 35/50\n",
            "1/1 [==============================] - 0s 10ms/step - loss: 0.8121 - accuracy: 0.7500\n",
            "Epoch 36/50\n",
            "1/1 [==============================] - 0s 10ms/step - loss: 0.8117 - accuracy: 0.7500\n",
            "Epoch 37/50\n",
            "1/1 [==============================] - 0s 9ms/step - loss: 0.8113 - accuracy: 0.7500\n",
            "Epoch 38/50\n",
            "1/1 [==============================] - 0s 10ms/step - loss: 0.8109 - accuracy: 0.7500\n",
            "Epoch 39/50\n",
            "1/1 [==============================] - 0s 10ms/step - loss: 0.8105 - accuracy: 0.7500\n",
            "Epoch 40/50\n",
            "1/1 [==============================] - 0s 10ms/step - loss: 0.8101 - accuracy: 0.7500\n",
            "Epoch 41/50\n",
            "1/1 [==============================] - 0s 10ms/step - loss: 0.8097 - accuracy: 0.7500\n",
            "Epoch 42/50\n",
            "1/1 [==============================] - 0s 10ms/step - loss: 0.8093 - accuracy: 0.7500\n",
            "Epoch 43/50\n",
            "1/1 [==============================] - 0s 11ms/step - loss: 0.8089 - accuracy: 0.7500\n",
            "Epoch 44/50\n",
            "1/1 [==============================] - 0s 9ms/step - loss: 0.8085 - accuracy: 0.7500\n",
            "Epoch 45/50\n",
            "1/1 [==============================] - 0s 10ms/step - loss: 0.8081 - accuracy: 0.7500\n",
            "Epoch 46/50\n",
            "1/1 [==============================] - 0s 9ms/step - loss: 0.8077 - accuracy: 0.7500\n",
            "Epoch 47/50\n",
            "1/1 [==============================] - 0s 9ms/step - loss: 0.8073 - accuracy: 0.7500\n",
            "Epoch 48/50\n",
            "1/1 [==============================] - 0s 9ms/step - loss: 0.8068 - accuracy: 0.7500\n",
            "Epoch 49/50\n",
            "1/1 [==============================] - 0s 9ms/step - loss: 0.8064 - accuracy: 0.7500\n",
            "Epoch 50/50\n",
            "1/1 [==============================] - 0s 8ms/step - loss: 0.8060 - accuracy: 0.7500\n",
            "1/1 [==============================] - 0s 115ms/step\n",
            "Predictions: [[0.49235952]\n",
            " [0.29991093]\n",
            " [0.30252618]\n",
            " [0.16077743]]\n"
          ]
        }
      ]
    },
    {
      "cell_type": "markdown",
      "source": [
        "multi-layer perceptron (MLP) using Keras:"
      ],
      "metadata": {
        "id": "JFrTfu5E82Qc"
      }
    },
    {
      "cell_type": "code",
      "source": [
        "import numpy as np\n",
        "from tensorflow import keras\n",
        "from tensorflow.keras.models import Sequential\n",
        "from tensorflow.keras.layers import Dense\n",
        "\n",
        "# Example training data\n",
        "X_train = np.array([[0, 0], [0, 1], [1, 0], [1, 1]])\n",
        "y_train = np.array([0, 1, 1, 0])\n",
        "\n",
        "# Create a Sequential model\n",
        "model = Sequential()\n",
        "\n",
        "# Add input layer\n",
        "model.add(Dense(units=4, activation='relu', input_dim=2))\n",
        "\n",
        "# Add hidden layer\n",
        "model.add(Dense(units=2, activation='relu'))\n",
        "\n",
        "# Add output layer\n",
        "model.add(Dense(units=1, activation='sigmoid'))\n",
        "\n",
        "# Compile the model\n",
        "model.compile(optimizer='adam', loss='binary_crossentropy', metrics=['accuracy'])\n",
        "\n",
        "# Train the model\n",
        "model.fit(X_train, y_train, epochs=10)\n",
        "\n",
        "# Example test data\n",
        "X_test = np.array([[0, 0], [0, 1], [1, 0], [1, 1]])\n",
        "\n",
        "# Perform predictions\n",
        "predictions = model.predict(X_test)\n",
        "print(\"Predictions:\", predictions)\n"
      ],
      "metadata": {
        "colab": {
          "base_uri": "https://localhost:8080/",
          "height": 0
        },
        "id": "_QOKah0k8_uQ",
        "outputId": "004cce29-3e4c-49f4-df12-5ba2051ae1d4"
      },
      "execution_count": 4,
      "outputs": [
        {
          "output_type": "stream",
          "name": "stdout",
          "text": [
            "Epoch 1/10\n",
            "1/1 [==============================] - 1s 872ms/step - loss: 0.6931 - accuracy: 0.5000\n",
            "Epoch 2/10\n",
            "1/1 [==============================] - 0s 9ms/step - loss: 0.6931 - accuracy: 0.5000\n",
            "Epoch 3/10\n",
            "1/1 [==============================] - 0s 9ms/step - loss: 0.6931 - accuracy: 0.5000\n",
            "Epoch 4/10\n",
            "1/1 [==============================] - 0s 12ms/step - loss: 0.6931 - accuracy: 0.5000\n",
            "Epoch 5/10\n",
            "1/1 [==============================] - 0s 11ms/step - loss: 0.6931 - accuracy: 0.5000\n",
            "Epoch 6/10\n",
            "1/1 [==============================] - 0s 13ms/step - loss: 0.6931 - accuracy: 0.5000\n",
            "Epoch 7/10\n",
            "1/1 [==============================] - 0s 10ms/step - loss: 0.6931 - accuracy: 0.5000\n",
            "Epoch 8/10\n",
            "1/1 [==============================] - 0s 12ms/step - loss: 0.6931 - accuracy: 0.5000\n",
            "Epoch 9/10\n",
            "1/1 [==============================] - 0s 10ms/step - loss: 0.6931 - accuracy: 0.5000\n",
            "Epoch 10/10\n",
            "1/1 [==============================] - 0s 10ms/step - loss: 0.6931 - accuracy: 0.5000\n",
            "1/1 [==============================] - 0s 58ms/step\n",
            "Predictions: [[0.5]\n",
            " [0.5]\n",
            " [0.5]\n",
            " [0.5]]\n"
          ]
        }
      ]
    }
  ]
}