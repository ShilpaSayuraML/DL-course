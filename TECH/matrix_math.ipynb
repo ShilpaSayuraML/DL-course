{
  "cells": [
    {
      "cell_type": "markdown",
      "source": [
        "Matrix math follows several rules, including:\n",
        "\n",
        "1. **Addition and Subtraction**:\n",
        "   - Matrices can be added or subtracted if they have the same dimensions.\n",
        "   - Addition or subtraction is performed element-wise.\n",
        "\n",
        "2. **Scalar Multiplication**:\n",
        "   - A scalar (single number) can be multiplied by a matrix.\n",
        "   - Each element of the matrix is multiplied by the scalar.\n",
        "\n",
        "3. **Matrix Multiplication**:\n",
        "   - Two matrices can be multiplied if the number of columns in the first matrix equals the number of rows in the second matrix.\n",
        "   - The resulting matrix has dimensions equal to the number of rows of the first matrix by the number of columns of the second matrix.\n",
        "   - The elements of the resulting matrix are computed by taking the dot product of rows of the first matrix and columns of the second matrix.\n",
        "\n",
        "4. **Transposition**:\n",
        "   - The transpose of a matrix is obtained by swapping its rows and columns.\n",
        "   - If \\( A \\) is an \\( m \\times n \\) matrix, then \\( A^T \\) is an \\( n \\times m \\) matrix.\n",
        "   - Transposing twice returns the original matrix: \\( (A^T)^T = A \\).\n",
        "   \n",
        "5. **Inverse**:\n",
        "   - Not all matrices have inverses. A square matrix that does have an inverse is called invertible or nonsingular.\n",
        "   - The inverse of a matrix \\( A \\) is denoted as \\( A^{-1} \\).\n",
        "   - If \\( A \\) is an invertible matrix, then \\( A \\times A^{-1} = A^{-1} \\times A = I \\), where \\( I \\) is the identity matrix.\n",
        "   - The inverse of a matrix can be found using various methods such as Gaussian elimination, LU decomposition, or using numpy's `np.linalg.inv()` function.\n",
        "\n",
        "These are fundamental rules, and understanding them is crucial for working with matrices effectively in various mathematical and computational contexts."
      ],
      "metadata": {
        "id": "2QA2q0wB1nGL"
      }
    },
    {
      "cell_type": "code",
      "execution_count": 1,
      "metadata": {
        "id": "62kI88YlxDAR"
      },
      "outputs": [],
      "source": [
        "import numpy as np"
      ]
    },
    {
      "cell_type": "code",
      "source": [
        "import numpy as np\n",
        "\n",
        "matrix1 = np.array([[1, 2, 3],\n",
        "                    [4, 5, 6]])\n",
        "\n",
        "matrix2 = np.array([[7, 8, 9],\n",
        "                    [10, 11, 12]])\n",
        "\n",
        "# Perform matrix addition\n",
        "result = matrix1 + matrix2\n",
        "\n",
        "print(result)\n"
      ],
      "metadata": {
        "colab": {
          "base_uri": "https://localhost:8080/",
          "height": 0
        },
        "id": "pRlbL7f7zTwK",
        "outputId": "76a30798-f158-4f91-f163-ebfbfb62fef3"
      },
      "execution_count": 9,
      "outputs": [
        {
          "output_type": "stream",
          "name": "stdout",
          "text": [
            "[[ 8 10 12]\n",
            " [14 16 18]]\n"
          ]
        }
      ]
    },
    {
      "cell_type": "code",
      "source": [
        "import numpy as np\n",
        "\n",
        "# Define the matrices\n",
        "matrix1 = np.array([[1, 2, 3],\n",
        "                    [4, 5, 6],\n",
        "                    [7, 8, 9]])\n",
        "\n",
        "matrix2 = np.array([[9, 8, 7],\n",
        "                    [6, 5, 4],\n",
        "                    [3, 2, 1]])\n",
        "\n",
        "# Perform matrix subtraction\n",
        "result = matrix1 - matrix2\n",
        "\n",
        "print(result)\n"
      ],
      "metadata": {
        "colab": {
          "base_uri": "https://localhost:8080/",
          "height": 0
        },
        "id": "4g2PLs3pznQk",
        "outputId": "1a9ba9e7-be4e-47b2-e58d-473a7650bb4f"
      },
      "execution_count": 10,
      "outputs": [
        {
          "output_type": "stream",
          "name": "stdout",
          "text": [
            "[[-8 -6 -4]\n",
            " [-2  0  2]\n",
            " [ 4  6  8]]\n"
          ]
        }
      ]
    },
    {
      "cell_type": "code",
      "source": [
        "import numpy as np\n",
        "\n",
        "# Define the matrices\n",
        "matrix1 = np.array([[10, 20],\n",
        "                    [30, 40]])\n",
        "\n",
        "matrix2 = np.array([[2, 4],\n",
        "                    [5, 10]])\n",
        "\n",
        "# Perform element-wise division\n",
        "result = matrix1 / matrix2\n",
        "\n",
        "print(result)\n"
      ],
      "metadata": {
        "colab": {
          "base_uri": "https://localhost:8080/",
          "height": 0
        },
        "id": "4cd1RLL5zzF0",
        "outputId": "68174d46-1b20-411f-bf58-2cb25a95a94a"
      },
      "execution_count": 11,
      "outputs": [
        {
          "output_type": "stream",
          "name": "stdout",
          "text": [
            "[[5. 5.]\n",
            " [6. 4.]]\n"
          ]
        }
      ]
    },
    {
      "cell_type": "code",
      "source": [
        "import numpy as np\n",
        "\n",
        "# Define the matrices\n",
        "matrix1 = np.array([[1, 2, 3],\n",
        "                    [4, 5, 6]])\n",
        "\n",
        "matrix2 = np.array([[7, 8],\n",
        "                    [9, 10],\n",
        "                    [11, 12]])\n",
        "\n",
        "# Perform matrix multiplication\n",
        "result = np.dot(matrix1, matrix2)\n",
        "\n",
        "# Alternatively, you can use the @ operator:\n",
        "# result = matrix1 @ matrix2\n",
        "\n",
        "print(result)\n"
      ],
      "metadata": {
        "colab": {
          "base_uri": "https://localhost:8080/",
          "height": 0
        },
        "id": "5ZDO7v7b0J36",
        "outputId": "780c41b3-8a72-45f9-d080-ef639640ea15"
      },
      "execution_count": 12,
      "outputs": [
        {
          "output_type": "stream",
          "name": "stdout",
          "text": [
            "[[ 58  64]\n",
            " [139 154]]\n"
          ]
        }
      ]
    },
    {
      "cell_type": "markdown",
      "source": [
        "Certainly! Let's walk through how the dimensions change during matrix multiplication:\n",
        "\n",
        "Consider two matrices:\n",
        "\n",
        "Matrix 1: Shape (2x3)\n",
        "```\n",
        "[[1, 2, 3],\n",
        " [4, 5, 6]]\n",
        "```\n",
        "\n",
        "Matrix 2: Shape (3x2)\n",
        "```\n",
        "[[7, 8],\n",
        " [9, 10],\n",
        " [11, 12]]\n",
        "```\n",
        "\n",
        "To perform matrix multiplication, the number of columns in the first matrix must equal the number of rows in the second matrix.\n",
        "\n",
        "1. **Matrix 1 (2x3) and Matrix 2 (3x2)**:\n",
        "\n",
        "- The number of columns in Matrix 1 (3) equals the number of rows in Matrix 2 (3), so they can be multiplied.\n",
        "\n",
        "2. **Resultant Matrix (2x2)**:\n",
        "\n",
        "- The resulting matrix will have the same number of rows as the first matrix (2) and the same number of columns as the second matrix (2).\n",
        "\n",
        "Here's how it looks step by step:\n",
        "\n",
        "1. For the (1,1) element of the result:\n",
        "\n",
        "```\n",
        "(1*7) + (2*9) + (3*11) = 7 + 18 + 33 = 58\n",
        "```\n",
        "\n",
        "2. For the (1,2) element of the result:\n",
        "\n",
        "```\n",
        "(1*8) + (2*10) + (3*12) = 8 + 20 + 36 = 64\n",
        "```\n",
        "\n",
        "3. For the (2,1) element of the result:\n",
        "\n",
        "```\n",
        "(4*7) + (5*9) + (6*11) = 28 + 45 + 66 = 139\n",
        "```\n",
        "\n",
        "4. For the (2,2) element of the result:\n",
        "\n",
        "```\n",
        "(4*8) + (5*10) + (6*12) = 32 + 50 + 72 = 154\n",
        "```\n",
        "\n",
        "So, the resultant matrix will be:\n",
        "\n",
        "```\n",
        "[[58, 64],\n",
        " [139, 154]]\n",
        "```\n",
        "\n",
        "The dimensions change from (2x3) and (3x2) to (2x2) during the multiplication process."
      ],
      "metadata": {
        "id": "QK01bOeZ0kyD"
      }
    },
    {
      "cell_type": "markdown",
      "metadata": {
        "id": "VdqpccOVxDAW"
      },
      "source": [
        "<h3 style='color:blue'>Calculate profit/loss from revenue and expenses</h3>"
      ]
    },
    {
      "cell_type": "markdown",
      "source": [
        "each row is a different product , each column is a different senario"
      ],
      "metadata": {
        "id": "dMZfHq7wx9p7"
      }
    },
    {
      "cell_type": "code",
      "execution_count": 2,
      "metadata": {
        "id": "LqRZvCLcxDAb"
      },
      "outputs": [],
      "source": [
        "revenue = np.array([[180,200,220],[24,36,40],[12,18,20]])\n",
        "expenses = np.array([[80,90,100],[10,16,20],[8,10,10]])"
      ]
    },
    {
      "cell_type": "code",
      "execution_count": 3,
      "metadata": {
        "scrolled": true,
        "id": "xHbsZxfTxDAd",
        "outputId": "6d2cd508-2059-4525-e71b-5416680bb1af",
        "colab": {
          "base_uri": "https://localhost:8080/",
          "height": 0
        }
      },
      "outputs": [
        {
          "output_type": "execute_result",
          "data": {
            "text/plain": [
              "array([[100, 110, 120],\n",
              "       [ 14,  20,  20],\n",
              "       [  4,   8,  10]])"
            ]
          },
          "metadata": {},
          "execution_count": 3
        }
      ],
      "source": [
        "profit = revenue - expenses\n",
        "profit"
      ]
    },
    {
      "cell_type": "markdown",
      "metadata": {
        "id": "laL1sxaUxDAi"
      },
      "source": [
        "<h3 style='color:blue'>Calculate total sales from units and price per unit using matrix multiplication</h3>"
      ]
    },
    {
      "cell_type": "code",
      "execution_count": 5,
      "metadata": {
        "id": "49cWiUEbxDAj"
      },
      "outputs": [],
      "source": [
        "price_per_unit = np.array([1000,400,1200])\n",
        "units = np.array([[30,40,50],[5,10,15],[2,5,7]])"
      ]
    },
    {
      "cell_type": "markdown",
      "metadata": {
        "id": "WbTcfkf6xDAm"
      },
      "source": [
        "dot product"
      ]
    },
    {
      "cell_type": "code",
      "execution_count": 7,
      "metadata": {
        "id": "5jes6QmMxDAo",
        "outputId": "9b4143e6-cebb-4065-b1b5-dcc8ca8fd528",
        "colab": {
          "base_uri": "https://localhost:8080/",
          "height": 0
        }
      },
      "outputs": [
        {
          "output_type": "execute_result",
          "data": {
            "text/plain": [
              "array([34400, 50000, 64400])"
            ]
          },
          "metadata": {},
          "execution_count": 7
        }
      ],
      "source": [
        "np.dot(price_per_unit,units)"
      ]
    },
    {
      "cell_type": "code",
      "source": [
        "import numpy as np\n",
        "\n",
        "# Define a matrix\n",
        "A = np.array([[1, 2, 3],\n",
        "              [4, 5, 6]])\n",
        "\n",
        "# Transpose the matrix\n",
        "A_transpose = A.T\n",
        "\n",
        "# Alternatively, you can use np.transpose()\n",
        "# A_transpose = np.transpose(A)\n",
        "\n",
        "print(\"Original Matrix:\")\n",
        "print(A)\n",
        "\n",
        "print(\"\\nTransposed Matrix:\")\n",
        "print(A_transpose)\n"
      ],
      "metadata": {
        "colab": {
          "base_uri": "https://localhost:8080/",
          "height": 0
        },
        "id": "u3SxNThq19kJ",
        "outputId": "43bc29b8-45c3-420c-de6e-682d83180e13"
      },
      "execution_count": 13,
      "outputs": [
        {
          "output_type": "stream",
          "name": "stdout",
          "text": [
            "Original Matrix:\n",
            "[[1 2 3]\n",
            " [4 5 6]]\n",
            "\n",
            "Transposed Matrix:\n",
            "[[1 4]\n",
            " [2 5]\n",
            " [3 6]]\n"
          ]
        }
      ]
    },
    {
      "cell_type": "code",
      "source": [
        "import numpy as np\n",
        "\n",
        "# Define a matrix\n",
        "A = np.array([[1, 2],\n",
        "              [3, 4]])\n",
        "\n",
        "# Find the inverse of the matrix\n",
        "A_inv = np.linalg.inv(A)\n",
        "\n",
        "print(\"Original Matrix:\")\n",
        "print(A)\n",
        "\n",
        "print(\"\\nInverse Matrix:\")\n",
        "print(A_inv)\n"
      ],
      "metadata": {
        "colab": {
          "base_uri": "https://localhost:8080/",
          "height": 0
        },
        "id": "1197ajc12Ap3",
        "outputId": "d1e88471-28a8-4f73-ed93-002ac6f5a932"
      },
      "execution_count": 14,
      "outputs": [
        {
          "output_type": "stream",
          "name": "stdout",
          "text": [
            "Original Matrix:\n",
            "[[1 2]\n",
            " [3 4]]\n",
            "\n",
            "Inverse Matrix:\n",
            "[[-2.   1. ]\n",
            " [ 1.5 -0.5]]\n"
          ]
        }
      ]
    },
    {
      "cell_type": "code",
      "source": [
        "import numpy as np\n",
        "\n",
        "# Create a 3x3 identity matrix\n",
        "identity_matrix = np.eye(3)\n",
        "\n",
        "print(identity_matrix)\n"
      ],
      "metadata": {
        "colab": {
          "base_uri": "https://localhost:8080/",
          "height": 0
        },
        "id": "7KgLCm7b2xIb",
        "outputId": "6bebb4ab-1e58-468d-df81-2abd4b60965d"
      },
      "execution_count": 16,
      "outputs": [
        {
          "output_type": "stream",
          "name": "stdout",
          "text": [
            "[[1. 0. 0.]\n",
            " [0. 1. 0.]\n",
            " [0. 0. 1.]]\n"
          ]
        }
      ]
    },
    {
      "cell_type": "code",
      "source": [
        "# Multiply A by its inverse\n",
        "identity_matrix = np.dot(A, A_inv)\n",
        "\n",
        "print(\"\\nIdentity Matrix:\")\n",
        "print(identity_matrix)\n"
      ],
      "metadata": {
        "colab": {
          "base_uri": "https://localhost:8080/",
          "height": 0
        },
        "id": "0p5schRY2Z0O",
        "outputId": "b3d1eb92-8d07-4d96-89f9-3fd8f4c95915"
      },
      "execution_count": 15,
      "outputs": [
        {
          "output_type": "stream",
          "name": "stdout",
          "text": [
            "\n",
            "Identity Matrix:\n",
            "[[1.0000000e+00 0.0000000e+00]\n",
            " [8.8817842e-16 1.0000000e+00]]\n"
          ]
        }
      ]
    }
  ],
  "metadata": {
    "kernelspec": {
      "display_name": "Python 3",
      "language": "python",
      "name": "python3"
    },
    "language_info": {
      "codemirror_mode": {
        "name": "ipython",
        "version": 3
      },
      "file_extension": ".py",
      "mimetype": "text/x-python",
      "name": "python",
      "nbconvert_exporter": "python",
      "pygments_lexer": "ipython3",
      "version": "3.7.3"
    },
    "colab": {
      "provenance": []
    }
  },
  "nbformat": 4,
  "nbformat_minor": 0
}