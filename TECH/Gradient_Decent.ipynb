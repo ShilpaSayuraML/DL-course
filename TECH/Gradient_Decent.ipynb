{
  "nbformat": 4,
  "nbformat_minor": 0,
  "metadata": {
    "colab": {
      "provenance": []
    },
    "kernelspec": {
      "name": "python3",
      "display_name": "Python 3"
    },
    "language_info": {
      "name": "python"
    }
  },
  "cells": [
    {
      "cell_type": "markdown",
      "source": [
        "# Gradient Decent\n",
        "https://youtu.be/jwStsp8JUPU?si=AOgm20SJJJQMMA12"
      ],
      "metadata": {
        "id": "BmwTButCv2Su"
      }
    },
    {
      "cell_type": "code",
      "execution_count": 1,
      "metadata": {
        "colab": {
          "base_uri": "https://localhost:8080/"
        },
        "id": "MY8YTwrovyUM",
        "outputId": "65eae082-d0be-4ba0-c37a-187b01ef8190"
      },
      "outputs": [
        {
          "output_type": "stream",
          "name": "stdout",
          "text": [
            "\n",
            "========== Epoch 0 ==========\n",
            "Average loss:  0.34924228844701166\n",
            "\n",
            "========== Epoch 1 ==========\n",
            "Average loss:  0.34924228844701166\n",
            "\n",
            "========== Epoch 2 ==========\n",
            "Average loss:  0.34924228844701166\n",
            "\n",
            "========== Epoch 3 ==========\n",
            "Average loss:  0.34924228844701166\n",
            "\n",
            "========== Epoch 4 ==========\n",
            "Average loss:  0.34924228844701166\n",
            "\n",
            "========== Epoch 5 ==========\n",
            "Average loss:  0.34924228844701166\n",
            "\n",
            "========== Epoch 6 ==========\n",
            "Average loss:  0.34924228844701166\n",
            "\n",
            "========== Epoch 7 ==========\n",
            "Average loss:  0.34924228844701166\n",
            "\n",
            "========== Epoch 8 ==========\n",
            "Average loss:  0.34924228844701166\n",
            "\n",
            "========== Epoch 9 ==========\n",
            "Average loss:  0.34924228844701166\n"
          ]
        }
      ],
      "source": [
        "import numpy as np\n",
        "\n",
        "# Activation Function\n",
        "def sigmoid(w_sum):\n",
        "    return 1/(1+np.exp(-w_sum))\n",
        "\n",
        "# Get Prediction\n",
        "def predict(features, weights, bias):\n",
        "    return sigmoid(np.dot(features, weights) + bias)\n",
        "\n",
        "# Loss Function\n",
        "def cross_entropy(target, pred):\n",
        "    return -(target*np.log10(pred)+(1-target)*(np.log10(1-pred)))\n",
        "\n",
        "# Update Weights\n",
        "def gradient_descent(x, y, weights, bias, learnrate, pred):\n",
        "    '''\n",
        "    argument data types:\n",
        "        feature, weights = lists with 3 items\n",
        "        target = integer (0 or 1)\n",
        "        prediction, l_rate, bias = floating point numbers\n",
        "    '''\n",
        "    return print(\"please define the function\")\n",
        "\n",
        "# Data\n",
        "features = np.array(([0.1,0.5,0.2],[0.2,0.3,0.1],[0.7,0.4,0.2],[0.1,0.4,0.3]))\n",
        "targets = np.array([0,1,0,1])\n",
        "epochs = 10\n",
        "learnrate = 0.1\n",
        "errors = []\n",
        "weights = np.array([0.4, 0.2, 0.6])\n",
        "bias = 0.5\n",
        "\n",
        "new_weights = []\n",
        "\n",
        "for e in range(epochs):\n",
        "    for x, y in zip(features, targets):\n",
        "        pred = predict(x, weights, bias)\n",
        "        error = cross_entropy(y, pred)\n",
        "        #weights, bias = gradient_descent(x, y, weights, bias, learnrate, pred)\n",
        "\n",
        "    # Printing out the log-loss error on the training set\n",
        "    out = predict(features, weights, bias)\n",
        "    loss = np.mean(cross_entropy(targets, out))\n",
        "    errors.append(loss)\n",
        "    print(\"\\n========== Epoch\", e,\"==========\")\n",
        "    print(\"Average loss: \", loss)"
      ]
    },
    {
      "cell_type": "markdown",
      "source": [
        "complete code"
      ],
      "metadata": {
        "id": "G9TB34ivxqtw"
      }
    },
    {
      "cell_type": "code",
      "source": [
        "import numpy as np\n",
        "\n",
        "# Activation Function\n",
        "def sigmoid(w_sum):\n",
        "    return 1/(1+np.exp(-w_sum))\n",
        "\n",
        "# Get Prediction\n",
        "def predict(features, weights, bias):\n",
        "    return sigmoid(np.dot(features, weights) + bias)\n",
        "\n",
        "# Loss Function\n",
        "def cross_entropy(target, pred):\n",
        "    return -(target*np.log10(pred)+(1-target)*(np.log10(1-pred)))\n",
        "\n",
        "# Update Weights\n",
        "def gradient_descent(x, y, weights, bias, learnrate, pred):\n",
        "    new_weights = []\n",
        "    bias += learnrate*(y-pred)\n",
        "\n",
        "    for w,xi in zip(weights,x):\n",
        "        new_weight = w + learnrate*(y-pred)*xi\n",
        "        new_weights.append(new_weight)\n",
        "    return new_weights, bias\n",
        "\n",
        "# Data\n",
        "features = np.array(([0.1,0.5,0.2],[0.2,0.3,0.1],[0.7,0.4,0.2],[0.1,0.4,0.3]))\n",
        "targets = np.array([0,1,0,1])\n",
        "\n",
        "epochs = 10\n",
        "learnrate = 0.1\n",
        "\n",
        "errors = []\n",
        "weights = np.array([0.4, 0.2, 0.6])\n",
        "bias = 0.5\n",
        "\n",
        "new_weights = []\n",
        "\n",
        "for e in range(epochs):\n",
        "    for x, y in zip(features, targets):\n",
        "        pred = predict(x, weights, bias)\n",
        "        error = cross_entropy(y, pred)\n",
        "        weights, bias = gradient_descent(x, y, weights, bias, learnrate, pred)\n",
        "\n",
        "    # Printing out the log-loss error on the training set\n",
        "    out = predict(features, weights, bias)\n",
        "    loss = np.mean(cross_entropy(targets, out))\n",
        "    errors.append(loss)\n",
        "    print(\"\\n========== Epoch\", e,\"==========\")\n",
        "    print(\"Average loss: \", loss)"
      ],
      "metadata": {
        "colab": {
          "base_uri": "https://localhost:8080/"
        },
        "id": "B59L5-2yxpS4",
        "outputId": "c2f89298-efea-457a-c773-164f1f946ab2"
      },
      "execution_count": 2,
      "outputs": [
        {
          "output_type": "stream",
          "name": "stdout",
          "text": [
            "\n",
            "========== Epoch 0 ==========\n",
            "Average loss:  0.33944294852408824\n",
            "\n",
            "========== Epoch 1 ==========\n",
            "Average loss:  0.33147083470744965\n",
            "\n",
            "========== Epoch 2 ==========\n",
            "Average loss:  0.32499752814643046\n",
            "\n",
            "========== Epoch 3 ==========\n",
            "Average loss:  0.31973828925825093\n",
            "\n",
            "========== Epoch 4 ==========\n",
            "Average loss:  0.3154527992144233\n",
            "\n",
            "========== Epoch 5 ==========\n",
            "Average loss:  0.3119424130828664\n",
            "\n",
            "========== Epoch 6 ==========\n",
            "Average loss:  0.30904555254773175\n",
            "\n",
            "========== Epoch 7 ==========\n",
            "Average loss:  0.3066324010104734\n",
            "\n",
            "========== Epoch 8 ==========\n",
            "Average loss:  0.30459963557320424\n",
            "\n",
            "========== Epoch 9 ==========\n",
            "Average loss:  0.30286560086854775\n"
          ]
        }
      ]
    }
  ]
}