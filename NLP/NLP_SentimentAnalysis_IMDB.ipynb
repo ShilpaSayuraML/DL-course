{
  "cells": [
    {
      "cell_type": "markdown",
      "metadata": {
        "id": "Ag88fDJdv-fv"
      },
      "source": [
        "## Plan of Action\n",
        "\n",
        "\n",
        "1.   Load **IMDb Movie Reviews dataset (50,000 reviews)**\n",
        "2.   **Pre-process dataset** by removing special characters, numbers, etc. from user reviews + convert **sentiment labels** positive & negative to numbers 1 & 0, respectively\n",
        "3.   **Import GloVe Word Embedding** to build Embedding Dictionary + Use this to build Embedding Matrix for our Corpus\n",
        "4. Model Training using **Deep Learning in Keras** for separate: **Simple Neural Net, CNN and LSTM Models** and analyse model performance and results\n",
        "4. Last, perform **predictions on real IMDb movie reviews**"
      ]
    },
    {
      "cell_type": "markdown",
      "source": [
        "https://github.com/skillcate/sentiment-analysis-with-deep-neural-networks/tree/main"
      ],
      "metadata": {
        "id": "BEQ6-fk-XXYI"
      }
    },
    {
      "cell_type": "markdown",
      "metadata": {
        "id": "EwZa81ThPbt3"
      },
      "source": [
        "## Setting the environment"
      ]
    },
    {
      "cell_type": "code",
      "execution_count": null,
      "metadata": {
        "id": "W-vpR9QCOn2i"
      },
      "outputs": [],
      "source": [
        "# Importing essential libraries and functions\n",
        "\n",
        "import pandas as pd\n",
        "import numpy as np\n",
        "import re\n",
        "import nltk\n",
        "from nltk.corpus import stopwords\n",
        "from numpy import array\n",
        "import tensorflow as tf"
      ]
    },
    {
      "cell_type": "code",
      "execution_count": null,
      "metadata": {
        "id": "iH3FqYw1_QAu"
      },
      "outputs": [],
      "source": [
        "from keras.preprocessing.text import one_hot, Tokenizer\n",
        "from keras.models import Sequential\n",
        "from keras.layers import Activation, Dropout, Dense\n",
        "from keras.layers import Flatten, GlobalMaxPooling1D, Embedding, Conv1D, LSTM\n",
        "from sklearn.model_selection import train_test_split"
      ]
    },
    {
      "cell_type": "code",
      "source": [
        "pip install keras-preprocessing"
      ],
      "metadata": {
        "colab": {
          "base_uri": "https://localhost:8080/"
        },
        "id": "AEniYea6BE48",
        "outputId": "83b3c016-3664-4360-e3eb-230c5c86d78b"
      },
      "execution_count": null,
      "outputs": [
        {
          "output_type": "stream",
          "name": "stdout",
          "text": [
            "Requirement already satisfied: keras-preprocessing in /usr/local/lib/python3.10/dist-packages (1.1.2)\n",
            "Requirement already satisfied: numpy>=1.9.1 in /usr/local/lib/python3.10/dist-packages (from keras-preprocessing) (1.25.2)\n",
            "Requirement already satisfied: six>=1.9.0 in /usr/local/lib/python3.10/dist-packages (from keras-preprocessing) (1.16.0)\n"
          ]
        }
      ]
    },
    {
      "cell_type": "code",
      "source": [
        "from keras_preprocessing.sequence import pad_sequences\n"
      ],
      "metadata": {
        "id": "lNuJKa3UA4Or"
      },
      "execution_count": null,
      "outputs": []
    },
    {
      "cell_type": "markdown",
      "metadata": {
        "id": "q6FO9rxjxHe_"
      },
      "source": [
        "## Loading dataset"
      ]
    },
    {
      "cell_type": "code",
      "execution_count": null,
      "metadata": {
        "id": "sNL6yy_DO0n1"
      },
      "outputs": [],
      "source": [
        "# Importing IMDb Movie Reviews dataset\n",
        "\n",
        "url = 'https://raw.githubusercontent.com/skillcate/sentiment-analysis-with-deep-neural-networks/main/a1_IMDB_Dataset.csv'\n",
        "\n",
        "movie_reviews = pd.read_csv(url)\n",
        "\n",
        "# dataset source: https://www.kaggle.com/datasets/lakshmi25npathi/imdb-dataset-of-50k-movie-reviews"
      ]
    },
    {
      "cell_type": "code",
      "execution_count": null,
      "metadata": {
        "colab": {
          "base_uri": "https://localhost:8080/"
        },
        "id": "elu2E2KjPBJX",
        "outputId": "c45d3467-1286-4bf4-cf03-7fd5421890d0"
      },
      "outputs": [
        {
          "output_type": "execute_result",
          "data": {
            "text/plain": [
              "(50000, 2)"
            ]
          },
          "metadata": {},
          "execution_count": 55
        }
      ],
      "source": [
        "# Dataset exploration\n",
        "\n",
        "movie_reviews.shape"
      ]
    },
    {
      "cell_type": "code",
      "execution_count": null,
      "metadata": {
        "colab": {
          "base_uri": "https://localhost:8080/",
          "height": 206
        },
        "id": "Ua8sjtdaPIAq",
        "outputId": "9053c032-0f32-4d80-bb70-fa64260f75cd"
      },
      "outputs": [
        {
          "output_type": "execute_result",
          "data": {
            "text/plain": [
              "                                              review sentiment\n",
              "0  One of the other reviewers has mentioned that ...  positive\n",
              "1  A wonderful little production. <br /><br />The...  positive\n",
              "2  I thought this was a wonderful way to spend ti...  positive\n",
              "3  Basically there's a family where a little boy ...  negative\n",
              "4  Petter Mattei's \"Love in the Time of Money\" is...  positive"
            ],
            "text/html": [
              "\n",
              "  <div id=\"df-3267b9ce-0854-4e20-a148-60af11d8072d\" class=\"colab-df-container\">\n",
              "    <div>\n",
              "<style scoped>\n",
              "    .dataframe tbody tr th:only-of-type {\n",
              "        vertical-align: middle;\n",
              "    }\n",
              "\n",
              "    .dataframe tbody tr th {\n",
              "        vertical-align: top;\n",
              "    }\n",
              "\n",
              "    .dataframe thead th {\n",
              "        text-align: right;\n",
              "    }\n",
              "</style>\n",
              "<table border=\"1\" class=\"dataframe\">\n",
              "  <thead>\n",
              "    <tr style=\"text-align: right;\">\n",
              "      <th></th>\n",
              "      <th>review</th>\n",
              "      <th>sentiment</th>\n",
              "    </tr>\n",
              "  </thead>\n",
              "  <tbody>\n",
              "    <tr>\n",
              "      <th>0</th>\n",
              "      <td>One of the other reviewers has mentioned that ...</td>\n",
              "      <td>positive</td>\n",
              "    </tr>\n",
              "    <tr>\n",
              "      <th>1</th>\n",
              "      <td>A wonderful little production. &lt;br /&gt;&lt;br /&gt;The...</td>\n",
              "      <td>positive</td>\n",
              "    </tr>\n",
              "    <tr>\n",
              "      <th>2</th>\n",
              "      <td>I thought this was a wonderful way to spend ti...</td>\n",
              "      <td>positive</td>\n",
              "    </tr>\n",
              "    <tr>\n",
              "      <th>3</th>\n",
              "      <td>Basically there's a family where a little boy ...</td>\n",
              "      <td>negative</td>\n",
              "    </tr>\n",
              "    <tr>\n",
              "      <th>4</th>\n",
              "      <td>Petter Mattei's \"Love in the Time of Money\" is...</td>\n",
              "      <td>positive</td>\n",
              "    </tr>\n",
              "  </tbody>\n",
              "</table>\n",
              "</div>\n",
              "    <div class=\"colab-df-buttons\">\n",
              "\n",
              "  <div class=\"colab-df-container\">\n",
              "    <button class=\"colab-df-convert\" onclick=\"convertToInteractive('df-3267b9ce-0854-4e20-a148-60af11d8072d')\"\n",
              "            title=\"Convert this dataframe to an interactive table.\"\n",
              "            style=\"display:none;\">\n",
              "\n",
              "  <svg xmlns=\"http://www.w3.org/2000/svg\" height=\"24px\" viewBox=\"0 -960 960 960\">\n",
              "    <path d=\"M120-120v-720h720v720H120Zm60-500h600v-160H180v160Zm220 220h160v-160H400v160Zm0 220h160v-160H400v160ZM180-400h160v-160H180v160Zm440 0h160v-160H620v160ZM180-180h160v-160H180v160Zm440 0h160v-160H620v160Z\"/>\n",
              "  </svg>\n",
              "    </button>\n",
              "\n",
              "  <style>\n",
              "    .colab-df-container {\n",
              "      display:flex;\n",
              "      gap: 12px;\n",
              "    }\n",
              "\n",
              "    .colab-df-convert {\n",
              "      background-color: #E8F0FE;\n",
              "      border: none;\n",
              "      border-radius: 50%;\n",
              "      cursor: pointer;\n",
              "      display: none;\n",
              "      fill: #1967D2;\n",
              "      height: 32px;\n",
              "      padding: 0 0 0 0;\n",
              "      width: 32px;\n",
              "    }\n",
              "\n",
              "    .colab-df-convert:hover {\n",
              "      background-color: #E2EBFA;\n",
              "      box-shadow: 0px 1px 2px rgba(60, 64, 67, 0.3), 0px 1px 3px 1px rgba(60, 64, 67, 0.15);\n",
              "      fill: #174EA6;\n",
              "    }\n",
              "\n",
              "    .colab-df-buttons div {\n",
              "      margin-bottom: 4px;\n",
              "    }\n",
              "\n",
              "    [theme=dark] .colab-df-convert {\n",
              "      background-color: #3B4455;\n",
              "      fill: #D2E3FC;\n",
              "    }\n",
              "\n",
              "    [theme=dark] .colab-df-convert:hover {\n",
              "      background-color: #434B5C;\n",
              "      box-shadow: 0px 1px 3px 1px rgba(0, 0, 0, 0.15);\n",
              "      filter: drop-shadow(0px 1px 2px rgba(0, 0, 0, 0.3));\n",
              "      fill: #FFFFFF;\n",
              "    }\n",
              "  </style>\n",
              "\n",
              "    <script>\n",
              "      const buttonEl =\n",
              "        document.querySelector('#df-3267b9ce-0854-4e20-a148-60af11d8072d button.colab-df-convert');\n",
              "      buttonEl.style.display =\n",
              "        google.colab.kernel.accessAllowed ? 'block' : 'none';\n",
              "\n",
              "      async function convertToInteractive(key) {\n",
              "        const element = document.querySelector('#df-3267b9ce-0854-4e20-a148-60af11d8072d');\n",
              "        const dataTable =\n",
              "          await google.colab.kernel.invokeFunction('convertToInteractive',\n",
              "                                                    [key], {});\n",
              "        if (!dataTable) return;\n",
              "\n",
              "        const docLinkHtml = 'Like what you see? Visit the ' +\n",
              "          '<a target=\"_blank\" href=https://colab.research.google.com/notebooks/data_table.ipynb>data table notebook</a>'\n",
              "          + ' to learn more about interactive tables.';\n",
              "        element.innerHTML = '';\n",
              "        dataTable['output_type'] = 'display_data';\n",
              "        await google.colab.output.renderOutput(dataTable, element);\n",
              "        const docLink = document.createElement('div');\n",
              "        docLink.innerHTML = docLinkHtml;\n",
              "        element.appendChild(docLink);\n",
              "      }\n",
              "    </script>\n",
              "  </div>\n",
              "\n",
              "\n",
              "<div id=\"df-860fcaaf-6b93-4080-8469-9827fdb867eb\">\n",
              "  <button class=\"colab-df-quickchart\" onclick=\"quickchart('df-860fcaaf-6b93-4080-8469-9827fdb867eb')\"\n",
              "            title=\"Suggest charts\"\n",
              "            style=\"display:none;\">\n",
              "\n",
              "<svg xmlns=\"http://www.w3.org/2000/svg\" height=\"24px\"viewBox=\"0 0 24 24\"\n",
              "     width=\"24px\">\n",
              "    <g>\n",
              "        <path d=\"M19 3H5c-1.1 0-2 .9-2 2v14c0 1.1.9 2 2 2h14c1.1 0 2-.9 2-2V5c0-1.1-.9-2-2-2zM9 17H7v-7h2v7zm4 0h-2V7h2v10zm4 0h-2v-4h2v4z\"/>\n",
              "    </g>\n",
              "</svg>\n",
              "  </button>\n",
              "\n",
              "<style>\n",
              "  .colab-df-quickchart {\n",
              "      --bg-color: #E8F0FE;\n",
              "      --fill-color: #1967D2;\n",
              "      --hover-bg-color: #E2EBFA;\n",
              "      --hover-fill-color: #174EA6;\n",
              "      --disabled-fill-color: #AAA;\n",
              "      --disabled-bg-color: #DDD;\n",
              "  }\n",
              "\n",
              "  [theme=dark] .colab-df-quickchart {\n",
              "      --bg-color: #3B4455;\n",
              "      --fill-color: #D2E3FC;\n",
              "      --hover-bg-color: #434B5C;\n",
              "      --hover-fill-color: #FFFFFF;\n",
              "      --disabled-bg-color: #3B4455;\n",
              "      --disabled-fill-color: #666;\n",
              "  }\n",
              "\n",
              "  .colab-df-quickchart {\n",
              "    background-color: var(--bg-color);\n",
              "    border: none;\n",
              "    border-radius: 50%;\n",
              "    cursor: pointer;\n",
              "    display: none;\n",
              "    fill: var(--fill-color);\n",
              "    height: 32px;\n",
              "    padding: 0;\n",
              "    width: 32px;\n",
              "  }\n",
              "\n",
              "  .colab-df-quickchart:hover {\n",
              "    background-color: var(--hover-bg-color);\n",
              "    box-shadow: 0 1px 2px rgba(60, 64, 67, 0.3), 0 1px 3px 1px rgba(60, 64, 67, 0.15);\n",
              "    fill: var(--button-hover-fill-color);\n",
              "  }\n",
              "\n",
              "  .colab-df-quickchart-complete:disabled,\n",
              "  .colab-df-quickchart-complete:disabled:hover {\n",
              "    background-color: var(--disabled-bg-color);\n",
              "    fill: var(--disabled-fill-color);\n",
              "    box-shadow: none;\n",
              "  }\n",
              "\n",
              "  .colab-df-spinner {\n",
              "    border: 2px solid var(--fill-color);\n",
              "    border-color: transparent;\n",
              "    border-bottom-color: var(--fill-color);\n",
              "    animation:\n",
              "      spin 1s steps(1) infinite;\n",
              "  }\n",
              "\n",
              "  @keyframes spin {\n",
              "    0% {\n",
              "      border-color: transparent;\n",
              "      border-bottom-color: var(--fill-color);\n",
              "      border-left-color: var(--fill-color);\n",
              "    }\n",
              "    20% {\n",
              "      border-color: transparent;\n",
              "      border-left-color: var(--fill-color);\n",
              "      border-top-color: var(--fill-color);\n",
              "    }\n",
              "    30% {\n",
              "      border-color: transparent;\n",
              "      border-left-color: var(--fill-color);\n",
              "      border-top-color: var(--fill-color);\n",
              "      border-right-color: var(--fill-color);\n",
              "    }\n",
              "    40% {\n",
              "      border-color: transparent;\n",
              "      border-right-color: var(--fill-color);\n",
              "      border-top-color: var(--fill-color);\n",
              "    }\n",
              "    60% {\n",
              "      border-color: transparent;\n",
              "      border-right-color: var(--fill-color);\n",
              "    }\n",
              "    80% {\n",
              "      border-color: transparent;\n",
              "      border-right-color: var(--fill-color);\n",
              "      border-bottom-color: var(--fill-color);\n",
              "    }\n",
              "    90% {\n",
              "      border-color: transparent;\n",
              "      border-bottom-color: var(--fill-color);\n",
              "    }\n",
              "  }\n",
              "</style>\n",
              "\n",
              "  <script>\n",
              "    async function quickchart(key) {\n",
              "      const quickchartButtonEl =\n",
              "        document.querySelector('#' + key + ' button');\n",
              "      quickchartButtonEl.disabled = true;  // To prevent multiple clicks.\n",
              "      quickchartButtonEl.classList.add('colab-df-spinner');\n",
              "      try {\n",
              "        const charts = await google.colab.kernel.invokeFunction(\n",
              "            'suggestCharts', [key], {});\n",
              "      } catch (error) {\n",
              "        console.error('Error during call to suggestCharts:', error);\n",
              "      }\n",
              "      quickchartButtonEl.classList.remove('colab-df-spinner');\n",
              "      quickchartButtonEl.classList.add('colab-df-quickchart-complete');\n",
              "    }\n",
              "    (() => {\n",
              "      let quickchartButtonEl =\n",
              "        document.querySelector('#df-860fcaaf-6b93-4080-8469-9827fdb867eb button');\n",
              "      quickchartButtonEl.style.display =\n",
              "        google.colab.kernel.accessAllowed ? 'block' : 'none';\n",
              "    })();\n",
              "  </script>\n",
              "</div>\n",
              "\n",
              "    </div>\n",
              "  </div>\n"
            ],
            "application/vnd.google.colaboratory.intrinsic+json": {
              "type": "dataframe",
              "variable_name": "movie_reviews",
              "summary": "{\n  \"name\": \"movie_reviews\",\n  \"rows\": 50000,\n  \"fields\": [\n    {\n      \"column\": \"review\",\n      \"properties\": {\n        \"dtype\": \"string\",\n        \"num_unique_values\": 49582,\n        \"samples\": [\n          \"\\\"Soul Plane\\\" is a horrible attempt at comedy that only should appeal people with thick skulls, bloodshot eyes and furry pawns. <br /><br />The plot is not only incoherent but also non-existent, acting is mostly sub sub-par with a gang of highly moronic and dreadful characters thrown in for bad measure, jokes are often spotted miles ahead and almost never even a bit amusing. This movie lacks any structure and is full of racial stereotypes that must have seemed old even in the fifties, the only thing it really has going for it is some pretty ladies, but really, if you want that you can rent something from the \\\"Adult\\\" section. OK?<br /><br />I can hardly see anything here to recommend since you'll probably have a lot a better and productive time chasing rats with a sledgehammer or inventing waterproof teabags or whatever.<br /><br />2/10\",\n          \"Guest from the Future tells a fascinating story of time travel, friendship, battle of good and evil -- all with a small budget, child actors, and few special effects. Something for Spielberg and Lucas to learn from. ;) A sixth-grader Kolya \\\"Nick\\\" Gerasimov finds a time machine in the basement of a decrepit building and travels 100 years into the future. He discovers a near-perfect, utopian society where robots play guitars and write poetry, everyone is kind to each other and people enjoy everything technology has to offer. Alice is the daughter of a prominent scientist who invented a device called Mielophone that allows to read minds of humans and animals. The device can be put to both good and bad use, depending on whose hands it falls into. When two evil space pirates from Saturn who want to rule the universe attempt to steal Mielophone, it falls into the hands of 20th century school boy Nick. With the pirates hot on his tracks, he travels back to his time, followed by the pirates, and Alice. Chaos, confusion and funny situations follow as the luckless pirates try to blend in with the earthlings. Alice enrolls in the same school Nick goes to and demonstrates superhuman abilities in PE class. The catch is, Alice doesn't know what Nick looks like, while the pirates do. Also, the pirates are able to change their appearance and turn literally into anyone. (Hmm, I wonder if this is where James Cameron got the idea for Terminator...) Who gets to Nick -- and Mielophone -- first? Excellent plot, non-stop adventures, and great soundtrack. I wish Hollywood made kid movies like this one...\",\n          \"\\\"National Treasure\\\" (2004) is a thoroughly misguided hodge-podge of plot entanglements that borrow from nearly every cloak and dagger government conspiracy clich\\u00e9 that has ever been written. The film stars Nicholas Cage as Benjamin Franklin Gates (how precious is that, I ask you?); a seemingly normal fellow who, for no other reason than being of a lineage of like-minded misguided fortune hunters, decides to steal a 'national treasure' that has been hidden by the United States founding fathers. After a bit of subtext and background that plays laughably (unintentionally) like Indiana Jones meets The Patriot, the film degenerates into one misguided whimsy after another \\u0096 attempting to create a 'Stanley Goodspeed' regurgitation of Nicholas Cage and launch the whole convoluted mess forward with a series of high octane, but disconnected misadventures.<br /><br />The relevancy and logic to having George Washington and his motley crew of patriots burying a king's ransom someplace on native soil, and then, going through the meticulous plan of leaving clues scattered throughout U.S. currency art work, is something that director Jon Turteltaub never quite gets around to explaining. Couldn't Washington found better usage for such wealth during the start up of the country? Hence, we are left with a mystery built on top of an enigma that is already on shaky ground by the time Ben appoints himself the new custodian of this untold wealth. Ben's intentions are noble \\u0096 if confusing. He's set on protecting the treasure. For who and when?\\u0085your guess is as good as mine.<br /><br />But there are a few problems with Ben's crusade. First up, his friend, Ian Holmes (Sean Bean) decides that he can't wait for Ben to make up his mind about stealing the Declaration of Independence from the National Archives (oh, yeah \\u0096 brilliant idea!). Presumably, the back of that famous document holds the secret answer to the ultimate fortune. So Ian tries to kill Ben. The assassination attempt is, of course, unsuccessful, if overly melodramatic. It also affords Ben the opportunity to pick up, and pick on, the very sultry curator of the archives, Abigail Chase (Diane Kruger). She thinks Ben is clearly a nut \\u0096 at least at the beginning. But true to action/romance form, Abby's resolve melts quicker than you can say, \\\"is that the Hope Diamond?\\\" The film moves into full X-File-ish mode, as the FBI, mistakenly believing that Ben is behind the theft, retaliate in various benign ways that lead to a multi-layering of action sequences reminiscent of Mission Impossible meets The Fugitive. Honestly, don't those guys ever get 'intelligence' information that is correct? In the final analysis, \\\"National Treasure\\\" isn't great film making, so much as it's a patchwork rehash of tired old bits from other movies, woven together from scraps, the likes of which would make IL' Betsy Ross blush.<br /><br />The Buena Vista DVD delivers a far more generous treatment than this film is deserving of. The anamorphic widescreen picture exhibits a very smooth and finely detailed image with very rich colors, natural flesh tones, solid blacks and clean whites. The stylized image is also free of blemishes and digital enhancements. The audio is 5.1 and delivers a nice sonic boom to your side and rear speakers with intensity and realism. Extras include a host of promotional junket material that is rather deep and over the top in its explanation of how and why this film was made. If only, as an audience, we had had more clarification as to why Ben and co. were chasing after an illusive treasure, this might have been one good flick. Extras conclude with the theatrical trailer, audio commentary and deleted scenes. Not for the faint-hearted \\u0096 just the thick-headed.\"\n        ],\n        \"semantic_type\": \"\",\n        \"description\": \"\"\n      }\n    },\n    {\n      \"column\": \"sentiment\",\n      \"properties\": {\n        \"dtype\": \"category\",\n        \"num_unique_values\": 2,\n        \"samples\": [\n          \"negative\",\n          \"positive\"\n        ],\n        \"semantic_type\": \"\",\n        \"description\": \"\"\n      }\n    }\n  ]\n}"
            }
          },
          "metadata": {},
          "execution_count": 56
        }
      ],
      "source": [
        "movie_reviews.head(5)"
      ]
    },
    {
      "cell_type": "code",
      "source": [
        "import pandas as pd\n",
        "\n",
        "# Assuming you have a DataFrame named movie_reviews with 'review' and 'sentiment' columns\n",
        "\n",
        "# Filter 500 records with positive sentiment\n",
        "positive_reviews = movie_reviews[movie_reviews['sentiment'] == 'positive'].head(500)\n",
        "\n",
        "# Filter 500 records with negative sentiment\n",
        "negative_reviews = movie_reviews[movie_reviews['sentiment'] == 'negative'].head(500)\n",
        "\n",
        "# Concatenate the two DataFrames vertically\n",
        "merged_reviews = pd.concat([positive_reviews, negative_reviews])\n",
        "\n",
        "# Shuffle the merged DataFrame\n",
        "movie_reviews = merged_reviews.sample(frac=1).reset_index(drop=True)\n",
        "\n",
        "# Display the shuffled DataFrame\n",
        "print(movie_reviews)\n"
      ],
      "metadata": {
        "colab": {
          "base_uri": "https://localhost:8080/"
        },
        "id": "ftofjsrkGpL2",
        "outputId": "b8b5f599-0593-43e5-9531-255c540c0379"
      },
      "execution_count": null,
      "outputs": [
        {
          "output_type": "stream",
          "name": "stdout",
          "text": [
            "                                                review sentiment\n",
            "0    DON'T TORTURE A DUCKLING is one of Fulci's ear...  positive\n",
            "1    Do you ever wonder what is the worst movie eve...  negative\n",
            "2    First, the CGI in this movie was horrible. I w...  negative\n",
            "3    For a film made in Senegal, based, I guess loo...  negative\n",
            "4    Just finished watching 2FTM. The trailers intr...  negative\n",
            "..                                                 ...       ...\n",
            "995  \"ZZZZZZZZZZZZZZZZZZ\"! If IMDb would allow one-...  negative\n",
            "996  I love Jamie Foxx.<br /><br />And I enjoy 99% ...  negative\n",
            "997  This movie is lame and not funny at all. The p...  negative\n",
            "998  Only a very small child could overlook the abs...  negative\n",
            "999  Adenoid Hynkel, a lowly soldier in World War O...  negative\n",
            "\n",
            "[1000 rows x 2 columns]\n"
          ]
        }
      ]
    },
    {
      "cell_type": "code",
      "source": [
        "\n",
        "# Remove <br> tags from the review column\n",
        "movie_reviews['review'] = movie_reviews['review'].str.replace('<br />', '')\n",
        "\n",
        "# Display the DataFrame after removing <br> tags\n",
        "print(movie_reviews.head())"
      ],
      "metadata": {
        "colab": {
          "base_uri": "https://localhost:8080/"
        },
        "id": "7mL9UNIsCLqo",
        "outputId": "03ff8c7c-e562-4a20-e43a-b296136e0980"
      },
      "execution_count": null,
      "outputs": [
        {
          "output_type": "stream",
          "name": "stdout",
          "text": [
            "                                              review sentiment\n",
            "0  DON'T TORTURE A DUCKLING is one of Fulci's ear...  positive\n",
            "1  Do you ever wonder what is the worst movie eve...  negative\n",
            "2  First, the CGI in this movie was horrible. I w...  negative\n",
            "3  For a film made in Senegal, based, I guess loo...  negative\n",
            "4  Just finished watching 2FTM. The trailers intr...  negative\n"
          ]
        }
      ]
    },
    {
      "cell_type": "code",
      "execution_count": null,
      "metadata": {
        "colab": {
          "base_uri": "https://localhost:8080/"
        },
        "id": "CRIDYlo4O8Va",
        "outputId": "08ba9ed7-3aa6-4948-b2ff-3bd1d9180fbb"
      },
      "outputs": [
        {
          "output_type": "execute_result",
          "data": {
            "text/plain": [
              "False"
            ]
          },
          "metadata": {},
          "execution_count": 59
        }
      ],
      "source": [
        "# Checking for missing values\n",
        "\n",
        "movie_reviews.isnull().values.any()"
      ]
    },
    {
      "cell_type": "code",
      "execution_count": null,
      "metadata": {
        "colab": {
          "base_uri": "https://localhost:8080/",
          "height": 466
        },
        "id": "ys4A3cAFPSYI",
        "outputId": "579652ad-91bf-4fe4-ffd7-7dc45abea6b3"
      },
      "outputs": [
        {
          "output_type": "execute_result",
          "data": {
            "text/plain": [
              "<Axes: xlabel='sentiment', ylabel='count'>"
            ]
          },
          "metadata": {},
          "execution_count": 60
        },
        {
          "output_type": "display_data",
          "data": {
            "text/plain": [
              "<Figure size 640x480 with 1 Axes>"
            ],
            "image/png": "[encoded data removed]"
          },
          "metadata": {}
        }
      ],
      "source": [
        "# Let's observe distribution of positive / negative sentiments in dataset\n",
        "\n",
        "import seaborn as sns\n",
        "sns.countplot(x='sentiment', data=movie_reviews)"
      ]
    },
    {
      "cell_type": "markdown",
      "metadata": {
        "id": "IAVIsg26PVZC"
      },
      "source": [
        "## Data Preprocessing"
      ]
    },
    {
      "cell_type": "code",
      "execution_count": null,
      "metadata": {
        "colab": {
          "base_uri": "https://localhost:8080/",
          "height": 195
        },
        "id": "PJ6a6aKjPORv",
        "outputId": "da78c9fa-3123-4dad-a9f1-106e12ced5f7"
      },
      "outputs": [
        {
          "output_type": "execute_result",
          "data": {
            "text/plain": [
              "'First, the CGI in this movie was horrible. I watched it during a marathon of bad movies on the SciFi channel. At the end when the owner of the park gets killed, it\\'s probably one of the worst examples of CGI I have even seen. Even Night of the Living Dead had better animation.That said, the movie had almost no plot. Why were they on that island in particular? Well, it wasn\\'t stated in the movie. And, why would the people keep coming into the cat\\'s area? Makes no sense.One thing that stood out in this movie was moderately good acting. In what could be called a \"B made for TV movie\" movie, the acting was very good. Parry Shen stood out in particular.If you have absolutely nothing to do on a Saturday, watch this movie. It may be good for some memorable quotes.'"
            ],
            "application/vnd.google.colaboratory.intrinsic+json": {
              "type": "string"
            }
          },
          "metadata": {},
          "execution_count": 61
        }
      ],
      "source": [
        "movie_reviews[\"review\"][2]\n",
        "\n",
        "# You can see that our text contains punctuations, brackets, HTML tags and numbers\n",
        "# We will preprocess this text in the next section"
      ]
    },
    {
      "cell_type": "code",
      "execution_count": null,
      "metadata": {
        "id": "D3GyEDf7DwFz",
        "colab": {
          "base_uri": "https://localhost:8080/"
        },
        "outputId": "d93d1e6a-3974-4da0-8144-653077cdb32f"
      },
      "outputs": [
        {
          "output_type": "stream",
          "name": "stderr",
          "text": [
            "[nltk_data] Downloading package punkt to /root/nltk_data...\n",
            "[nltk_data]   Package punkt is already up-to-date!\n",
            "[nltk_data] Downloading package stopwords to /root/nltk_data...\n",
            "[nltk_data]   Package stopwords is already up-to-date!\n",
            "[nltk_data] Downloading package wordnet to /root/nltk_data...\n",
            "[nltk_data]   Package wordnet is already up-to-date!\n"
          ]
        }
      ],
      "source": [
        "import nltk\n",
        "from nltk.corpus import stopwords\n",
        "from nltk.tokenize import word_tokenize\n",
        "from nltk.stem import WordNetLemmatizer\n",
        "import re\n",
        "\n",
        "# Download NLTK resources (if not already downloaded)\n",
        "nltk.download('punkt')\n",
        "nltk.download('stopwords')\n",
        "nltk.download('wordnet')\n",
        "\n",
        "# Initialize NLTK components\n",
        "stop_words = set(stopwords.words('english'))\n",
        "lemmatizer = WordNetLemmatizer()\n"
      ]
    },
    {
      "cell_type": "code",
      "source": [
        "\n",
        "# Define a function for text preprocessing\n",
        "def preprocess_text(text):\n",
        "\n",
        "    # Remove HTML tags\n",
        "    text = re.sub(r'<.*?>', '', text)\n",
        "    # Remove non-alphabetic characters and convert to lowercase\n",
        "    text = re.sub(r'[^a-zA-Z]', ' ', text).lower()\n",
        "    # Tokenization\n",
        "    words = word_tokenize(text)\n",
        "    # Remove stopwords and lemmatize tokens\n",
        "    filtered_words = [lemmatizer.lemmatize(word) for word in words if word not in stop_words]\n",
        "    # Join tokens back into a string\n",
        "    preprocessed_text = ' '.join(filtered_words)\n",
        "    return preprocessed_text\n"
      ],
      "metadata": {
        "id": "XVL2_t_TFc_2"
      },
      "execution_count": null,
      "outputs": []
    },
    {
      "cell_type": "code",
      "source": [
        "# Apply preprocessing function to each review in the 'review' column\n",
        "X = [preprocess_text(review) for review in movie_reviews['review']]\n"
      ],
      "metadata": {
        "id": "CFXwj5iSFteT"
      },
      "execution_count": null,
      "outputs": []
    },
    {
      "cell_type": "code",
      "source": [
        "X[2]"
      ],
      "metadata": {
        "colab": {
          "base_uri": "https://localhost:8080/",
          "height": 136
        },
        "id": "jlicdaTrHOQA",
        "outputId": "3cdfc12e-6ca3-489a-8afb-3386de4b1fdc"
      },
      "execution_count": null,
      "outputs": [
        {
          "output_type": "execute_result",
          "data": {
            "text/plain": [
              "'first cgi movie horrible watched marathon bad movie scifi channel end owner park get killed probably one worst example cgi even seen even night living dead better animation said movie almost plot island particular well stated movie would people keep coming cat area make sense one thing stood movie moderately good acting could called b made tv movie movie acting good parry shen stood particular absolutely nothing saturday watch movie may good memorable quote'"
            ],
            "application/vnd.google.colaboratory.intrinsic+json": {
              "type": "string"
            }
          },
          "metadata": {},
          "execution_count": 65
        }
      ]
    },
    {
      "cell_type": "code",
      "execution_count": null,
      "metadata": {
        "id": "-EKC4DJTQKsB"
      },
      "outputs": [],
      "source": [
        "# Converting sentiment labels to 0 & 1\n",
        "y = movie_reviews['sentiment']\n",
        "\n",
        "y = np.array(list(map(lambda x: 1 if x==\"positive\" else 0, y)))"
      ]
    },
    {
      "cell_type": "code",
      "source": [
        "y[:5]"
      ],
      "metadata": {
        "colab": {
          "base_uri": "https://localhost:8080/"
        },
        "id": "HseoXlVCIGGd",
        "outputId": "c2e480b2-4f6c-4592-a30d-0ddd46142324"
      },
      "execution_count": null,
      "outputs": [
        {
          "output_type": "execute_result",
          "data": {
            "text/plain": [
              "array([1, 0, 0, 0, 0])"
            ]
          },
          "metadata": {},
          "execution_count": 67
        }
      ]
    },
    {
      "cell_type": "code",
      "execution_count": null,
      "metadata": {
        "id": "UZPyxSQVQPT_"
      },
      "outputs": [],
      "source": [
        "X_train, X_test, y_train, y_test = train_test_split(X, y, test_size=0.20, random_state=42)\n",
        "\n",
        "# The train set will be used to train our deep learning models\n",
        "# while test set will be used to evaluate how well our model performs"
      ]
    },
    {
      "cell_type": "code",
      "source": [
        "X_train[2]"
      ],
      "metadata": {
        "colab": {
          "base_uri": "https://localhost:8080/",
          "height": 116
        },
        "id": "S5nWHy-hIg9Z",
        "outputId": "2f361f6f-943f-45b5-d99f-3cfe278d31fe"
      },
      "execution_count": null,
      "outputs": [
        {
          "output_type": "execute_result",
          "data": {
            "text/plain": [
              "'basically family little boy jake think zombie closet parent fighting time movie slower soap opera suddenly jake decides become rambo kill zombie ok first going make film must decide thriller drama drama movie watchable parent divorcing arguing like real life jake closet totally ruin film expected see boogeyman similar movie instead watched drama meaningless thriller spot well playing parent descent dialog shot jake ignore'"
            ],
            "application/vnd.google.colaboratory.intrinsic+json": {
              "type": "string"
            }
          },
          "metadata": {},
          "execution_count": 70
        }
      ]
    },
    {
      "cell_type": "markdown",
      "metadata": {
        "id": "FsF3k9QbQc5q"
      },
      "source": [
        "## Preparing embedding layer"
      ]
    },
    {
      "cell_type": "markdown",
      "metadata": {
        "id": "hv27X0dUcurD"
      },
      "source": [
        "Let's now write the script for our embedding layer. Embedding layer converts our textual data into numeric form. It is then **used as the first layer for the deep learning models in Keras**."
      ]
    },
    {
      "cell_type": "markdown",
      "source": [
        "![word-embedding-example.webp](data:image/webp;base64,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)"
      ],
      "metadata": {
        "id": "mbsvaqCLJHmS"
      }
    },
    {
      "cell_type": "code",
      "execution_count": null,
      "metadata": {
        "id": "kZ5kWzGKeAgc"
      },
      "outputs": [],
      "source": [
        "# Embedding layer expects the words to be in numeric form\n",
        "# Using Tokenizer function from keras.preprocessing.text library\n",
        "# Method fit_on_text trains the tokenizer\n",
        "# Method texts_to_sequences converts sentences to their numeric form\n",
        "\n",
        "word_tokenizer = Tokenizer()\n",
        "word_tokenizer.fit_on_texts(X_train)\n",
        "\n",
        "X_train = word_tokenizer.texts_to_sequences(X_train)\n",
        "X_test = word_tokenizer.texts_to_sequences(X_test)"
      ]
    },
    {
      "cell_type": "code",
      "source": [
        "X_train[2]"
      ],
      "metadata": {
        "colab": {
          "base_uri": "https://localhost:8080/"
        },
        "id": "k8k3lwj-ITFU",
        "outputId": "c14647d3-41b8-4abe-bd9b-0c2d973dfca8"
      },
      "execution_count": null,
      "outputs": [
        {
          "output_type": "execute_result",
          "data": {
            "text/plain": [
              "[522,\n",
              " 104,\n",
              " 37,\n",
              " 221,\n",
              " 3228,\n",
              " 26,\n",
              " 384,\n",
              " 3229,\n",
              " 436,\n",
              " 1044,\n",
              " 5,\n",
              " 1,\n",
              " 3988,\n",
              " 1847,\n",
              " 1398,\n",
              " 756,\n",
              " 3228,\n",
              " 696,\n",
              " 342,\n",
              " 3989,\n",
              " 222,\n",
              " 384,\n",
              " 541,\n",
              " 22,\n",
              " 86,\n",
              " 13,\n",
              " 2,\n",
              " 81,\n",
              " 1045,\n",
              " 464,\n",
              " 280,\n",
              " 280,\n",
              " 1,\n",
              " 1848,\n",
              " 436,\n",
              " 7444,\n",
              " 7445,\n",
              " 4,\n",
              " 62,\n",
              " 29,\n",
              " 3228,\n",
              " 3229,\n",
              " 273,\n",
              " 1648,\n",
              " 2,\n",
              " 830,\n",
              " 7,\n",
              " 7446,\n",
              " 637,\n",
              " 1,\n",
              " 211,\n",
              " 189,\n",
              " 280,\n",
              " 2767,\n",
              " 464,\n",
              " 1206,\n",
              " 16,\n",
              " 303,\n",
              " 436,\n",
              " 3990,\n",
              " 513,\n",
              " 122,\n",
              " 3228,\n",
              " 2107]"
            ]
          },
          "metadata": {},
          "execution_count": 72
        }
      ]
    },
    {
      "cell_type": "code",
      "execution_count": null,
      "metadata": {
        "id": "DOtRe_53_QBZ"
      },
      "outputs": [],
      "source": [
        "import io\n",
        "import json"
      ]
    },
    {
      "cell_type": "code",
      "source": [
        "import requests\n",
        "\n",
        "# URL of the tokenizer file\n",
        "url = \"https://raw.githubusercontent.com/skillcate/sentiment-analysis-with-deep-neural-networks/main/b3_tokenizer.json\"\n",
        "\n",
        "# Send a GET request to the URL\n",
        "response = requests.get(url)\n",
        "\n",
        "# Check if the request was successful\n",
        "if response.status_code == 200:\n",
        "    # Get the content of the response (tokenizer JSON data)\n",
        "    tokenizer_json = response.text\n",
        "\n",
        "    # Save tokenizer JSON to a local file\n",
        "    with open('b3_tokenizer.json', 'w', encoding='utf-8') as f:\n",
        "        f.write(tokenizer_json)\n",
        "    print(\"Tokenizer JSON file saved successfully.\")\n",
        "else:\n",
        "    print(\"Failed to fetch tokenizer JSON. Status code:\", response.status_code)\n"
      ],
      "metadata": {
        "colab": {
          "base_uri": "https://localhost:8080/"
        },
        "id": "rHz5BiG4K-24",
        "outputId": "7ecd353c-352f-4cf9-e054-3cb8fa0909a1"
      },
      "execution_count": null,
      "outputs": [
        {
          "output_type": "stream",
          "name": "stdout",
          "text": [
            "Tokenizer JSON file saved successfully.\n"
          ]
        }
      ]
    },
    {
      "cell_type": "code",
      "execution_count": null,
      "metadata": {
        "id": "VOgT7jN__QBa"
      },
      "outputs": [],
      "source": [
        "# Saving dddd\n",
        "tokenizer_json = word_tokenizer.to_json()\n",
        "with io.open('b3_tokenizer.json', 'w', encoding='utf-8') as f:\n",
        "    f.write(json.dumps(tokenizer_json, ensure_ascii=False))"
      ]
    },
    {
      "cell_type": "markdown",
      "source": [
        "The file b3_tokenizer.json likely contains the configuration and parameters of a tokenizer that has been trained or used in a natural language processing (NLP) task.\n",
        "- Tokenizer Configuration\n",
        "- Tokenizer Rules\n",
        "- Tokenizer Vocabulary\n",
        "- Tokenizer State etc."
      ],
      "metadata": {
        "id": "hryhywpZLpP0"
      }
    },
    {
      "cell_type": "code",
      "execution_count": null,
      "metadata": {
        "colab": {
          "base_uri": "https://localhost:8080/"
        },
        "id": "vn-Rj21reKVm",
        "outputId": "850e8b49-ee9d-4454-836a-6fcd4c88e55c"
      },
      "outputs": [
        {
          "output_type": "execute_result",
          "data": {
            "text/plain": [
              "14134"
            ]
          },
          "metadata": {},
          "execution_count": 75
        }
      ],
      "source": [
        "# Adding 1 to store dimensions for words for which no pretrained word embeddings exist\n",
        "\n",
        "vocab_length = len(word_tokenizer.word_index) + 1\n",
        "\n",
        "vocab_length"
      ]
    },
    {
      "cell_type": "code",
      "execution_count": null,
      "metadata": {
        "id": "9-QqBAR0hz22"
      },
      "outputs": [],
      "source": [
        "# Padding all reviews to fixed length 100\n",
        "\n",
        "maxlen = 100\n",
        "\n",
        "X_train = pad_sequences(X_train, padding='post', maxlen=maxlen)\n",
        "X_test = pad_sequences(X_test, padding='post', maxlen=maxlen)"
      ]
    },
    {
      "cell_type": "markdown",
      "source": [
        "GloVe (Global Vectors for Word Representation) is an unsupervised learning algorithm for obtaining vector representations for words. These vectors capture semantic meaning based on the distributional properties of words in a large corpus of text. You can either train them on your own corpus or use pre-trained GloVe vectors that are available for download."
      ],
      "metadata": {
        "id": "W3uhRWKtONU8"
      }
    },
    {
      "cell_type": "code",
      "source": [
        "!wget http://nlp.stanford.edu/data/glove.6B.zip"
      ],
      "metadata": {
        "colab": {
          "base_uri": "https://localhost:8080/"
        },
        "id": "2dYoLKC0NJTB",
        "outputId": "c02281f9-bcea-4106-ccac-d1b8d851efbd"
      },
      "execution_count": null,
      "outputs": [
        {
          "output_type": "stream",
          "name": "stdout",
          "text": [
            "--2024-04-01 19:48:28--  http://nlp.stanford.edu/data/glove.6B.zip\n",
            "Resolving nlp.stanford.edu (nlp.stanford.edu)... 171.64.67.140\n",
            "Connecting to nlp.stanford.edu (nlp.stanford.edu)|171.64.67.140|:80... connected.\n",
            "HTTP request sent, awaiting response... 302 Found\n",
            "Location: https://nlp.stanford.edu/data/glove.6B.zip [following]\n",
            "--2024-04-01 19:48:29--  https://nlp.stanford.edu/data/glove.6B.zip\n",
            "Connecting to nlp.stanford.edu (nlp.stanford.edu)|171.64.67.140|:443... connected.\n",
            "HTTP request sent, awaiting response... 301 Moved Permanently\n",
            "Location: https://downloads.cs.stanford.edu/nlp/data/glove.6B.zip [following]\n",
            "--2024-04-01 19:48:29--  https://downloads.cs.stanford.edu/nlp/data/glove.6B.zip\n",
            "Resolving downloads.cs.stanford.edu (downloads.cs.stanford.edu)... 171.64.64.22\n",
            "Connecting to downloads.cs.stanford.edu (downloads.cs.stanford.edu)|171.64.64.22|:443... connected.\n",
            "HTTP request sent, awaiting response... 200 OK\n",
            "Length: 862182613 (822M) [application/zip]\n",
            "Saving to: ‘glove.6B.zip’\n",
            "\n",
            "glove.6B.zip        100%[===================>] 822.24M  4.99MB/s    in 2m 39s  \n",
            "\n",
            "2024-04-01 19:51:08 (5.18 MB/s) - ‘glove.6B.zip’ saved [862182613/862182613]\n",
            "\n"
          ]
        }
      ]
    },
    {
      "cell_type": "code",
      "source": [
        "!unzip glove*.zip"
      ],
      "metadata": {
        "colab": {
          "base_uri": "https://localhost:8080/"
        },
        "id": "SaYy5-ULNN2F",
        "outputId": "d4934f9f-e4df-4561-e11c-e69eaa766919"
      },
      "execution_count": null,
      "outputs": [
        {
          "output_type": "stream",
          "name": "stdout",
          "text": [
            "Archive:  glove.6B.zip\n",
            "  inflating: glove.6B.50d.txt        \n",
            "  inflating: glove.6B.100d.txt       \n",
            "  inflating: glove.6B.200d.txt       \n",
            "  inflating: glove.6B.300d.txt       \n"
          ]
        }
      ]
    },
    {
      "cell_type": "code",
      "source": [
        "!ls\n",
        "!pwd"
      ],
      "metadata": {
        "colab": {
          "base_uri": "https://localhost:8080/"
        },
        "id": "4zCUjuUZNYek",
        "outputId": "d033b308-c8fa-435e-ba81-ef9cbe76228d"
      },
      "execution_count": null,
      "outputs": [
        {
          "output_type": "stream",
          "name": "stdout",
          "text": [
            "b3_tokenizer.json  glove.6B.200d.txt  glove.6B.50d.txt\tsample_data\n",
            "glove.6B.100d.txt  glove.6B.300d.txt  glove.6B.zip\n",
            "/content\n"
          ]
        }
      ]
    },
    {
      "cell_type": "code",
      "source": [
        "from google.colab import drive\n",
        "drive.mount('/content/drive')"
      ],
      "metadata": {
        "colab": {
          "base_uri": "https://localhost:8080/",
          "height": 0
        },
        "id": "BvpElhzQQjM-",
        "outputId": "e18dbed4-60f1-438e-cccf-66fc0de70669"
      },
      "execution_count": 83,
      "outputs": [
        {
          "output_type": "stream",
          "name": "stdout",
          "text": [
            "Drive already mounted at /content/drive; to attempt to forcibly remount, call drive.mount(\"/content/drive\", force_remount=True).\n"
          ]
        }
      ]
    },
    {
      "cell_type": "code",
      "source": [
        "#!cp /content/glove.6B.100d.txt /content/drive/MyDrive/glove.6B.100d.txt"
      ],
      "metadata": {
        "id": "6BNeKlRsRHg7"
      },
      "execution_count": 84,
      "outputs": []
    },
    {
      "cell_type": "code",
      "source": [
        "#!ls -l /content/drive/MyDrive/*.txt"
      ],
      "metadata": {
        "colab": {
          "base_uri": "https://localhost:8080/",
          "height": 0
        },
        "id": "biQxPoaSSJhJ",
        "outputId": "e82006e1-9ef2-4097-bba7-67c1700a7561"
      },
      "execution_count": 87,
      "outputs": [
        {
          "output_type": "stream",
          "name": "stdout",
          "text": [
            "-rw------- 1 root root 613 Oct 17  2022 /content/drive/MyDrive/comedy.txt\n",
            "-rw------- 1 root root 766 Aug 30  2022 /content/drive/MyDrive/renew-ssl.txt\n"
          ]
        }
      ]
    },
    {
      "cell_type": "code",
      "source": [
        "#!rm /content/drive/MyDrive/glove.6B.100d.txt"
      ],
      "metadata": {
        "id": "Gx1dfJRXSdqF"
      },
      "execution_count": 86,
      "outputs": []
    },
    {
      "cell_type": "code",
      "execution_count": 89,
      "metadata": {
        "id": "VH4uFszlRGPk"
      },
      "outputs": [],
      "source": [
        "# Load GloVe word embeddings and create an Embeddings Dictionary\n",
        "\n",
        "from numpy import asarray\n",
        "from numpy import zeros\n",
        "\n",
        "embeddings_dictionary = dict()\n",
        "glove_file = open('/content/glove.6B.100d.txt', encoding=\"utf8\")\n",
        "\n",
        "for line in glove_file:\n",
        "    records = line.split()\n",
        "    word = records[0]\n",
        "    vector_dimensions = asarray(records[1:], dtype='float32')\n",
        "    embeddings_dictionary [word] = vector_dimensions\n",
        "glove_file.close()"
      ]
    },
    {
      "cell_type": "code",
      "execution_count": 90,
      "metadata": {
        "id": "ZN6SP61FSDZB"
      },
      "outputs": [],
      "source": [
        "# Create Embedding Matrix having 100 columns\n",
        "# Containing 100-dimensional GloVe word embeddings for all words in our corpus.\n",
        "\n",
        "embedding_matrix = zeros((vocab_length, 100))\n",
        "for word, index in word_tokenizer.word_index.items():\n",
        "    embedding_vector = embeddings_dictionary.get(word)\n",
        "    if embedding_vector is not None:\n",
        "        embedding_matrix[index] = embedding_vector"
      ]
    },
    {
      "cell_type": "code",
      "execution_count": 114,
      "metadata": {
        "colab": {
          "base_uri": "https://localhost:8080/",
          "height": 0
        },
        "id": "fjwFEeCmiAPo",
        "outputId": "6f5abe77-56e3-4295-e66b-dd854cc8f459"
      },
      "outputs": [
        {
          "output_type": "execute_result",
          "data": {
            "text/plain": [
              "(14134, 100)"
            ]
          },
          "metadata": {},
          "execution_count": 114
        }
      ],
      "source": [
        "embedding_matrix.shape"
      ]
    },
    {
      "cell_type": "markdown",
      "metadata": {
        "id": "OW-AbfS3jNy_"
      },
      "source": [
        "# Model Training with:"
      ]
    },
    {
      "cell_type": "code",
      "source": [],
      "metadata": {
        "id": "Q5PKAHhvTTlS"
      },
      "execution_count": null,
      "outputs": []
    },
    {
      "cell_type": "markdown",
      "metadata": {
        "id": "F_bNYrfoSIBj"
      },
      "source": [
        "## Simple Neural Network"
      ]
    },
    {
      "cell_type": "code",
      "execution_count": 115,
      "metadata": {
        "id": "qf-U8d-WSFxk"
      },
      "outputs": [],
      "source": [
        "# Neural Network architecture\n",
        "\n",
        "snn_model = Sequential()\n",
        "embedding_layer = Embedding(vocab_length, 100, weights=[embedding_matrix], input_length=maxlen , trainable=False)\n",
        "\n",
        "snn_model.add(embedding_layer)\n",
        "\n",
        "snn_model.add(Flatten())\n",
        "snn_model.add(Dense(1, activation='sigmoid'))"
      ]
    },
    {
      "cell_type": "code",
      "execution_count": 116,
      "metadata": {
        "colab": {
          "base_uri": "https://localhost:8080/",
          "height": 0
        },
        "id": "JjUzsDS5SOrH",
        "outputId": "f1b6784f-3db5-4cd9-beab-96123307841d"
      },
      "outputs": [
        {
          "output_type": "stream",
          "name": "stdout",
          "text": [
            "Model: \"sequential_3\"\n",
            "_________________________________________________________________\n",
            " Layer (type)                Output Shape              Param #   \n",
            "=================================================================\n",
            " embedding_3 (Embedding)     (None, 100, 100)          1413400   \n",
            "                                                                 \n",
            " flatten_1 (Flatten)         (None, 10000)             0         \n",
            "                                                                 \n",
            " dense_3 (Dense)             (None, 1)                 10001     \n",
            "                                                                 \n",
            "=================================================================\n",
            "Total params: 1423401 (5.43 MB)\n",
            "Trainable params: 10001 (39.07 KB)\n",
            "Non-trainable params: 1413400 (5.39 MB)\n",
            "_________________________________________________________________\n",
            "None\n"
          ]
        }
      ],
      "source": [
        "# Model compiling\n",
        "\n",
        "snn_model.compile(optimizer='adam', loss='binary_crossentropy', metrics=['acc'])\n",
        "\n",
        "print(snn_model.summary())"
      ]
    },
    {
      "cell_type": "code",
      "execution_count": 117,
      "metadata": {
        "id": "s_-kGD2x_QB_",
        "outputId": "3f9da4da-4b7f-43b6-99e3-9064785b2aeb",
        "colab": {
          "base_uri": "https://localhost:8080/",
          "height": 0
        }
      },
      "outputs": [
        {
          "output_type": "stream",
          "name": "stdout",
          "text": [
            "Epoch 1/6\n",
            "5/5 [==============================] - 1s 62ms/step - loss: 0.7736 - acc: 0.4922 - val_loss: 0.7602 - val_acc: 0.4812\n",
            "Epoch 2/6\n",
            "5/5 [==============================] - 0s 14ms/step - loss: 0.5913 - acc: 0.6953 - val_loss: 0.7303 - val_acc: 0.5500\n",
            "Epoch 3/6\n",
            "5/5 [==============================] - 0s 15ms/step - loss: 0.4733 - acc: 0.8469 - val_loss: 0.6772 - val_acc: 0.6125\n",
            "Epoch 4/6\n",
            "5/5 [==============================] - 0s 17ms/step - loss: 0.3933 - acc: 0.9016 - val_loss: 0.6619 - val_acc: 0.6313\n",
            "Epoch 5/6\n",
            "5/5 [==============================] - 0s 17ms/step - loss: 0.3324 - acc: 0.9328 - val_loss: 0.6621 - val_acc: 0.6438\n",
            "Epoch 6/6\n",
            "5/5 [==============================] - 0s 16ms/step - loss: 0.2767 - acc: 0.9656 - val_loss: 0.6580 - val_acc: 0.6500\n"
          ]
        }
      ],
      "source": [
        "# Model training\n",
        "\n",
        "snn_model_history = snn_model.fit(X_train, y_train, batch_size=128, epochs=6, verbose=1, validation_split=0.2)"
      ]
    },
    {
      "cell_type": "code",
      "execution_count": 118,
      "metadata": {
        "id": "Fbjq_xjXSVIw"
      },
      "outputs": [],
      "source": [
        "# # Model training\n",
        "\n",
        "# snn_model_history = snn_model.fit(X_train, y_train, batch_size=128, epochs=6, verbose=1, validation_split=0.2)"
      ]
    },
    {
      "cell_type": "code",
      "execution_count": 119,
      "metadata": {
        "colab": {
          "base_uri": "https://localhost:8080/",
          "height": 0
        },
        "id": "bLiriTfNSYcc",
        "outputId": "78c4e008-92d6-4905-92a6-680df108a5f2"
      },
      "outputs": [
        {
          "output_type": "stream",
          "name": "stdout",
          "text": [
            "7/7 [==============================] - 0s 6ms/step - loss: 0.5794 - acc: 0.6650\n"
          ]
        }
      ],
      "source": [
        "# Predictions on the Test Set\n",
        "\n",
        "score = snn_model.evaluate(X_test, y_test, verbose=1)"
      ]
    },
    {
      "cell_type": "code",
      "execution_count": 120,
      "metadata": {
        "colab": {
          "base_uri": "https://localhost:8080/",
          "height": 0
        },
        "id": "CeFtXQ9MSaaN",
        "outputId": "f5d685d8-6b3a-4036-84dd-eec013771bb0"
      },
      "outputs": [
        {
          "output_type": "stream",
          "name": "stdout",
          "text": [
            "Test Score: 0.5793619155883789\n",
            "Test Accuracy: 0.6650000214576721\n"
          ]
        }
      ],
      "source": [
        "# Model Performance\n",
        "\n",
        "print(\"Test Score:\", score[0])\n",
        "print(\"Test Accuracy:\", score[1])"
      ]
    },
    {
      "cell_type": "code",
      "execution_count": 121,
      "metadata": {
        "colab": {
          "base_uri": "https://localhost:8080/",
          "height": 927
        },
        "id": "r55HElqVSc5K",
        "outputId": "ef6bce08-bb93-4703-c335-7a6ca9bb06d4"
      },
      "outputs": [
        {
          "output_type": "display_data",
          "data": {
            "text/plain": [
              "<Figure size 640x480 with 1 Axes>"
            ],
            "image/png": "[encoded data removed]"
          },
          "metadata": {}
        },
        {
          "output_type": "display_data",
          "data": {
            "text/plain": [
              "<Figure size 640x480 with 1 Axes>"
            ],
            "image/png": "[encoded data removed]"
          },
          "metadata": {}
        }
      ],
      "source": [
        "# Model Performance Charts\n",
        "\n",
        "import matplotlib.pyplot as plt\n",
        "\n",
        "plt.plot(snn_model_history.history['acc'])\n",
        "plt.plot(snn_model_history.history['val_acc'])\n",
        "\n",
        "plt.title('model accuracy')\n",
        "plt.ylabel('accuracy')\n",
        "plt.xlabel('epoch')\n",
        "plt.legend(['train','test'], loc='upper left')\n",
        "plt.show()\n",
        "\n",
        "plt.plot(snn_model_history.history['loss'])\n",
        "plt.plot(snn_model_history.history['val_loss'])\n",
        "\n",
        "plt.title('model loss')\n",
        "plt.ylabel('loss')\n",
        "plt.xlabel('epoch')\n",
        "plt.legend(['train','test'], loc='upper left')\n",
        "plt.show()"
      ]
    },
    {
      "cell_type": "markdown",
      "metadata": {
        "id": "HMulFBC4SfAY"
      },
      "source": [
        "## Convolutional Neural Network"
      ]
    },
    {
      "cell_type": "code",
      "execution_count": 122,
      "metadata": {
        "id": "CzNlGNGGUhVx"
      },
      "outputs": [],
      "source": [
        "from keras.layers import Conv1D"
      ]
    },
    {
      "cell_type": "code",
      "execution_count": 123,
      "metadata": {
        "id": "kbVF6c4ASgUs"
      },
      "outputs": [],
      "source": [
        "# Neural Network architecture\n",
        "\n",
        "cnn_model = Sequential()\n",
        "\n",
        "embedding_layer = Embedding(vocab_length, 100, weights=[embedding_matrix], input_length=maxlen , trainable=False)\n",
        "cnn_model.add(embedding_layer)\n",
        "\n",
        "cnn_model.add(Conv1D(128, 5, activation='relu'))\n",
        "cnn_model.add(GlobalMaxPooling1D())\n",
        "cnn_model.add(Dense(1, activation='sigmoid'))"
      ]
    },
    {
      "cell_type": "code",
      "execution_count": 124,
      "metadata": {
        "colab": {
          "base_uri": "https://localhost:8080/",
          "height": 0
        },
        "id": "XayF5sTqSlP_",
        "outputId": "ba3124dc-9f69-4c19-e3e0-2b681a0b74ce"
      },
      "outputs": [
        {
          "output_type": "stream",
          "name": "stdout",
          "text": [
            "Model: \"sequential_4\"\n",
            "_________________________________________________________________\n",
            " Layer (type)                Output Shape              Param #   \n",
            "=================================================================\n",
            " embedding_4 (Embedding)     (None, 100, 100)          1413400   \n",
            "                                                                 \n",
            " conv1d_1 (Conv1D)           (None, 96, 128)           64128     \n",
            "                                                                 \n",
            " global_max_pooling1d_1 (Gl  (None, 128)               0         \n",
            " obalMaxPooling1D)                                               \n",
            "                                                                 \n",
            " dense_4 (Dense)             (None, 1)                 129       \n",
            "                                                                 \n",
            "=================================================================\n",
            "Total params: 1477657 (5.64 MB)\n",
            "Trainable params: 64257 (251.00 KB)\n",
            "Non-trainable params: 1413400 (5.39 MB)\n",
            "_________________________________________________________________\n",
            "None\n"
          ]
        }
      ],
      "source": [
        "# Model compiling\n",
        "\n",
        "cnn_model.compile(optimizer='adam', loss='binary_crossentropy', metrics=['acc'])\n",
        "print(cnn_model.summary())"
      ]
    },
    {
      "cell_type": "code",
      "execution_count": 125,
      "metadata": {
        "colab": {
          "base_uri": "https://localhost:8080/",
          "height": 0
        },
        "id": "AaF5Rc6GSnDY",
        "outputId": "9d8f8cc2-a496-4257-d926-5f6483bf357b"
      },
      "outputs": [
        {
          "output_type": "stream",
          "name": "stdout",
          "text": [
            "Epoch 1/6\n",
            "5/5 [==============================] - 3s 142ms/step - loss: 0.8370 - acc: 0.5094 - val_loss: 0.7774 - val_acc: 0.5125\n",
            "Epoch 2/6\n",
            "5/5 [==============================] - 0s 92ms/step - loss: 0.6371 - acc: 0.6250 - val_loss: 0.7220 - val_acc: 0.5000\n",
            "Epoch 3/6\n",
            "5/5 [==============================] - 0s 92ms/step - loss: 0.5762 - acc: 0.6891 - val_loss: 0.6301 - val_acc: 0.6375\n",
            "Epoch 4/6\n",
            "5/5 [==============================] - 0s 93ms/step - loss: 0.5059 - acc: 0.7828 - val_loss: 0.6117 - val_acc: 0.6500\n",
            "Epoch 5/6\n",
            "5/5 [==============================] - 0s 93ms/step - loss: 0.4443 - acc: 0.9078 - val_loss: 0.6130 - val_acc: 0.6687\n",
            "Epoch 6/6\n",
            "5/5 [==============================] - 0s 95ms/step - loss: 0.3904 - acc: 0.9500 - val_loss: 0.5830 - val_acc: 0.7188\n"
          ]
        }
      ],
      "source": [
        "# Model training\n",
        "\n",
        "cnn_model_history = cnn_model.fit(X_train, y_train, batch_size=128, epochs=6, verbose=1, validation_split=0.2)"
      ]
    },
    {
      "cell_type": "code",
      "execution_count": 103,
      "metadata": {
        "colab": {
          "base_uri": "https://localhost:8080/",
          "height": 0
        },
        "id": "fTqK3hr6VNUi",
        "outputId": "c46db458-2e8c-4a5c-cf6f-8371d11a79d6"
      },
      "outputs": [
        {
          "output_type": "stream",
          "name": "stdout",
          "text": [
            "7/7 [==============================] - 0s 9ms/step - loss: 0.5715 - acc: 0.7250\n"
          ]
        }
      ],
      "source": [
        "# Predictions on the Test Set\n",
        "\n",
        "score = cnn_model.evaluate(X_test, y_test, verbose=1)"
      ]
    },
    {
      "cell_type": "code",
      "execution_count": 126,
      "metadata": {
        "colab": {
          "base_uri": "https://localhost:8080/",
          "height": 0
        },
        "id": "bQhafHPmSvpG",
        "outputId": "4f04ec8c-f4da-436d-82f3-bbf0459a113b"
      },
      "outputs": [
        {
          "output_type": "stream",
          "name": "stdout",
          "text": [
            "Test Score: 0.5793619155883789\n",
            "Test Accuracy: 0.6650000214576721\n"
          ]
        }
      ],
      "source": [
        "# Model Performance\n",
        "\n",
        "print(\"Test Score:\", score[0])\n",
        "print(\"Test Accuracy:\", score[1])"
      ]
    },
    {
      "cell_type": "code",
      "execution_count": 127,
      "metadata": {
        "colab": {
          "base_uri": "https://localhost:8080/",
          "height": 927
        },
        "id": "YLdZa9GNSyAy",
        "outputId": "748542d7-172f-48e1-923e-5ad16ce91481"
      },
      "outputs": [
        {
          "output_type": "display_data",
          "data": {
            "text/plain": [
              "<Figure size 640x480 with 1 Axes>"
            ],
            "image/png": "[encoded data removed]"
          },
          "metadata": {}
        },
        {
          "output_type": "display_data",
          "data": {
            "text/plain": [
              "<Figure size 640x480 with 1 Axes>"
            ],
            "image/png": "[encoded data removed]"
          },
          "metadata": {}
        }
      ],
      "source": [
        "# Model Performance Charts\n",
        "\n",
        "import matplotlib.pyplot as plt\n",
        "\n",
        "plt.plot(cnn_model_history.history['acc'])\n",
        "plt.plot(cnn_model_history.history['val_acc'])\n",
        "\n",
        "plt.title('model accuracy')\n",
        "plt.ylabel('accuracy')\n",
        "plt.xlabel('epoch')\n",
        "plt.legend(['train','test'], loc = 'upper left')\n",
        "plt.show()\n",
        "\n",
        "plt.plot(cnn_model_history.history['loss'])\n",
        "plt.plot(cnn_model_history.history['val_loss'])\n",
        "\n",
        "plt.title('model loss')\n",
        "plt.ylabel('loss')\n",
        "plt.xlabel('epoch')\n",
        "plt.legend(['train','test'], loc = 'upper left')\n",
        "plt.show()"
      ]
    },
    {
      "cell_type": "markdown",
      "metadata": {
        "id": "2QTts_XPS1Wn"
      },
      "source": [
        "## Recurrent Neural Network (LSTM)"
      ]
    },
    {
      "cell_type": "code",
      "execution_count": 129,
      "metadata": {
        "id": "1iLtWqoMVwU5"
      },
      "outputs": [],
      "source": [
        "from keras.layers import LSTM"
      ]
    },
    {
      "cell_type": "code",
      "execution_count": 137,
      "metadata": {
        "id": "0ccqZ-8kS2el"
      },
      "outputs": [],
      "source": [
        "# Neural Network architecture\n",
        "\n",
        "lstm_model = Sequential()\n",
        "embedding_layer = Embedding(vocab_length, 100, weights=[embedding_matrix], input_length=maxlen , trainable=False)\n",
        "\n",
        "lstm_model.add(embedding_layer)\n",
        "lstm_model.add(LSTM(128))\n",
        "\n",
        "lstm_model.add(Dense(1, activation='sigmoid'))"
      ]
    },
    {
      "cell_type": "code",
      "execution_count": 131,
      "metadata": {
        "colab": {
          "base_uri": "https://localhost:8080/",
          "height": 0
        },
        "id": "Zk00Ss9HS68g",
        "outputId": "e1de4371-95b0-4066-9c20-a1f0f22761f2"
      },
      "outputs": [
        {
          "output_type": "stream",
          "name": "stdout",
          "text": [
            "Model: \"sequential_5\"\n",
            "_________________________________________________________________\n",
            " Layer (type)                Output Shape              Param #   \n",
            "=================================================================\n",
            " embedding_5 (Embedding)     (None, 100, 100)          1413400   \n",
            "                                                                 \n",
            " lstm_1 (LSTM)               (None, 128)               117248    \n",
            "                                                                 \n",
            " dense_5 (Dense)             (None, 1)                 129       \n",
            "                                                                 \n",
            "=================================================================\n",
            "Total params: 1530777 (5.84 MB)\n",
            "Trainable params: 117377 (458.50 KB)\n",
            "Non-trainable params: 1413400 (5.39 MB)\n",
            "_________________________________________________________________\n",
            "None\n"
          ]
        }
      ],
      "source": [
        "# Model compiling\n",
        "\n",
        "lstm_model.compile(optimizer='adam', loss='binary_crossentropy', metrics=['acc'])\n",
        "print(lstm_model.summary())"
      ]
    },
    {
      "cell_type": "code",
      "execution_count": 132,
      "metadata": {
        "colab": {
          "base_uri": "https://localhost:8080/",
          "height": 0
        },
        "id": "QMhhaZUaS9jF",
        "outputId": "85625290-9f12-42f0-c8fa-85a96084ddad"
      },
      "outputs": [
        {
          "output_type": "stream",
          "name": "stdout",
          "text": [
            "Epoch 1/6\n",
            "5/5 [==============================] - 4s 433ms/step - loss: 0.6974 - acc: 0.5094 - val_loss: 0.6875 - val_acc: 0.5938\n",
            "Epoch 2/6\n",
            "5/5 [==============================] - 2s 472ms/step - loss: 0.6807 - acc: 0.5766 - val_loss: 0.6804 - val_acc: 0.5688\n",
            "Epoch 3/6\n",
            "5/5 [==============================] - 3s 587ms/step - loss: 0.6669 - acc: 0.5922 - val_loss: 0.6686 - val_acc: 0.5875\n",
            "Epoch 4/6\n",
            "5/5 [==============================] - 3s 599ms/step - loss: 0.6424 - acc: 0.6187 - val_loss: 0.6346 - val_acc: 0.6313\n",
            "Epoch 5/6\n",
            "5/5 [==============================] - 3s 628ms/step - loss: 0.5971 - acc: 0.6672 - val_loss: 0.6548 - val_acc: 0.6562\n",
            "Epoch 6/6\n",
            "5/5 [==============================] - 3s 685ms/step - loss: 0.5965 - acc: 0.6875 - val_loss: 0.6310 - val_acc: 0.6938\n"
          ]
        }
      ],
      "source": [
        "# Model Training\n",
        "\n",
        "lstm_model_history = lstm_model.fit(X_train, y_train, batch_size=128, epochs=6, verbose=1, validation_split=0.2)"
      ]
    },
    {
      "cell_type": "code",
      "execution_count": 133,
      "metadata": {
        "colab": {
          "base_uri": "https://localhost:8080/",
          "height": 0
        },
        "id": "w7il9EjzlAaR",
        "outputId": "77b256de-2a05-49ef-dd57-29ae325176e3"
      },
      "outputs": [
        {
          "output_type": "stream",
          "name": "stdout",
          "text": [
            "7/7 [==============================] - 0s 42ms/step - loss: 0.6639 - acc: 0.5950\n"
          ]
        }
      ],
      "source": [
        "# Predictions on the Test Set\n",
        "\n",
        "score = lstm_model.evaluate(X_test, y_test, verbose=1)"
      ]
    },
    {
      "cell_type": "code",
      "execution_count": 134,
      "metadata": {
        "colab": {
          "base_uri": "https://localhost:8080/",
          "height": 0
        },
        "id": "6j71n54zS9mc",
        "outputId": "119a7d4a-8ecd-4e04-9542-6d8a6ff9bdde"
      },
      "outputs": [
        {
          "output_type": "stream",
          "name": "stdout",
          "text": [
            "Test Score: 0.6639131307601929\n",
            "Test Accuracy: 0.5950000286102295\n"
          ]
        }
      ],
      "source": [
        "# Model Performance\n",
        "\n",
        "print(\"Test Score:\", score[0])\n",
        "print(\"Test Accuracy:\", score[1])"
      ]
    },
    {
      "cell_type": "code",
      "execution_count": 135,
      "metadata": {
        "colab": {
          "base_uri": "https://localhost:8080/",
          "height": 927
        },
        "id": "LiibO1EuS9qB",
        "outputId": "28f172d3-3ea7-464d-9f6f-4f1e823bf345"
      },
      "outputs": [
        {
          "output_type": "display_data",
          "data": {
            "text/plain": [
              "<Figure size 640x480 with 1 Axes>"
            ],
            "image/png": "[encoded data removed]"
          },
          "metadata": {}
        },
        {
          "output_type": "display_data",
          "data": {
            "text/plain": [
              "<Figure size 640x480 with 1 Axes>"
            ],
            "image/png": "[encoded data removed]"
          },
          "metadata": {}
        }
      ],
      "source": [
        "# Model Performance Charts\n",
        "\n",
        "import matplotlib.pyplot as plt\n",
        "\n",
        "plt.plot(lstm_model_history.history['acc'])\n",
        "plt.plot(lstm_model_history.history['val_acc'])\n",
        "\n",
        "plt.title('model accuracy')\n",
        "plt.ylabel('accuracy')\n",
        "plt.xlabel('epoch')\n",
        "plt.legend(['train','test'], loc='upper left')\n",
        "plt.show()\n",
        "\n",
        "plt.plot(lstm_model_history.history['loss'])\n",
        "plt.plot(lstm_model_history.history['val_loss'])\n",
        "\n",
        "plt.title('model loss')\n",
        "plt.ylabel('loss')\n",
        "plt.xlabel('epoch')\n",
        "plt.legend(['train','test'], loc='upper left')\n",
        "plt.show()"
      ]
    },
    {
      "cell_type": "code",
      "execution_count": 136,
      "metadata": {
        "id": "YwXAHNsnnSdw"
      },
      "outputs": [],
      "source": [
        "# Saving the model as a h5 file for possible use later\n",
        "\n",
        "lstm_model.save(f\"./c1_lstm_model_acc_{round(score[1], 3)}.h5\", save_format='h5')"
      ]
    },
    {
      "cell_type": "markdown",
      "metadata": {
        "id": "CF77MN1uTHbG"
      },
      "source": [
        "# Making Predictions on Live IMDb data"
      ]
    },
    {
      "cell_type": "code",
      "execution_count": 138,
      "metadata": {
        "colab": {
          "base_uri": "https://localhost:8080/",
          "height": 35
        },
        "id": "0i2Qws60ogQY",
        "outputId": "4aa86872-d701-4f3c-f0d9-6e301742bcfa"
      },
      "outputs": [
        {
          "output_type": "execute_result",
          "data": {
            "text/plain": [
              "'/content'"
            ],
            "application/vnd.google.colaboratory.intrinsic+json": {
              "type": "string"
            }
          },
          "metadata": {},
          "execution_count": 138
        }
      ],
      "source": [
        "pwd # lists files in working directory"
      ]
    },
    {
      "cell_type": "code",
      "source": [
        "import requests\n",
        "from keras.models import load_model\n",
        "\n",
        "# URL of the pre-trained model\n",
        "model_url = \"https://github.com/skillcate/sentiment-analysis-with-deep-neural-networks/raw/main/c1_lstm_model_acc_0.864.h5\"\n",
        "\n",
        "# Download the model file\n",
        "response = requests.get(model_url)\n",
        "model_file = \"c1_lstm_model_acc_0.864.h5\"\n",
        "\n",
        "# Save the model file\n",
        "with open(model_file, 'wb') as f:\n",
        "    f.write(response.content)\n",
        "\n",
        "# Load the model\n",
        "pretrained_lstm_model = load_model(model_file)\n",
        "\n",
        "# Summarize the model\n",
        "pretrained_lstm_model.summary()\n"
      ],
      "metadata": {
        "colab": {
          "base_uri": "https://localhost:8080/",
          "height": 0
        },
        "id": "oDI5CSRcUYqP",
        "outputId": "f1aa876d-f3fd-44c2-8f40-f1d47dd71268"
      },
      "execution_count": 140,
      "outputs": [
        {
          "output_type": "stream",
          "name": "stdout",
          "text": [
            "Model: \"sequential_2\"\n",
            "_________________________________________________________________\n",
            " Layer (type)                Output Shape              Param #   \n",
            "=================================================================\n",
            " embedding_2 (Embedding)     (None, 100, 100)          9239400   \n",
            "                                                                 \n",
            " lstm (LSTM)                 (None, 128)               117248    \n",
            "                                                                 \n",
            " dense_2 (Dense)             (None, 1)                 129       \n",
            "                                                                 \n",
            "=================================================================\n",
            "Total params: 9356777 (35.69 MB)\n",
            "Trainable params: 117377 (458.50 KB)\n",
            "Non-trainable params: 9239400 (35.25 MB)\n",
            "_________________________________________________________________\n"
          ]
        }
      ]
    },
    {
      "cell_type": "code",
      "execution_count": 141,
      "metadata": {
        "colab": {
          "base_uri": "https://localhost:8080/",
          "height": 238
        },
        "id": "qZiniS4-guUR",
        "outputId": "561d215c-885f-46af-dca0-0cf4f2343b89"
      },
      "outputs": [
        {
          "output_type": "execute_result",
          "data": {
            "text/plain": [
              "   Unnamed: 0       Movie                                        Review Text  \\\n",
              "0           0  Ex Machina  Intelligent Movie.\\nThis movie is obviously al...   \n",
              "1           1  Ex Machina  Extraordinary and thought-provoking.\\n'Ex mach...   \n",
              "2           2  Ex Machina  Poor story, only reasonable otherwise.\\nIf I h...   \n",
              "3           3  Ex Machina  Had Great Potential.\\nThis movie is one of the...   \n",
              "4           4    Eternals  Amazing visuals and philosophical concepts!\\n\\...   \n",
              "5           5    Eternals  Worst MCU film ever\\n\\nFollowing the events of...   \n",
              "\n",
              "   IMDb Rating  \n",
              "0            9  \n",
              "1           10  \n",
              "2            3  \n",
              "3            1  \n",
              "4           10  \n",
              "5            3  "
            ],
            "text/html": [
              "\n",
              "  <div id=\"df-f7308f0e-68d2-4c42-80e3-289032ed2a9d\" class=\"colab-df-container\">\n",
              "    <div>\n",
              "<style scoped>\n",
              "    .dataframe tbody tr th:only-of-type {\n",
              "        vertical-align: middle;\n",
              "    }\n",
              "\n",
              "    .dataframe tbody tr th {\n",
              "        vertical-align: top;\n",
              "    }\n",
              "\n",
              "    .dataframe thead th {\n",
              "        text-align: right;\n",
              "    }\n",
              "</style>\n",
              "<table border=\"1\" class=\"dataframe\">\n",
              "  <thead>\n",
              "    <tr style=\"text-align: right;\">\n",
              "      <th></th>\n",
              "      <th>Unnamed: 0</th>\n",
              "      <th>Movie</th>\n",
              "      <th>Review Text</th>\n",
              "      <th>IMDb Rating</th>\n",
              "    </tr>\n",
              "  </thead>\n",
              "  <tbody>\n",
              "    <tr>\n",
              "      <th>0</th>\n",
              "      <td>0</td>\n",
              "      <td>Ex Machina</td>\n",
              "      <td>Intelligent Movie.\\nThis movie is obviously al...</td>\n",
              "      <td>9</td>\n",
              "    </tr>\n",
              "    <tr>\n",
              "      <th>1</th>\n",
              "      <td>1</td>\n",
              "      <td>Ex Machina</td>\n",
              "      <td>Extraordinary and thought-provoking.\\n'Ex mach...</td>\n",
              "      <td>10</td>\n",
              "    </tr>\n",
              "    <tr>\n",
              "      <th>2</th>\n",
              "      <td>2</td>\n",
              "      <td>Ex Machina</td>\n",
              "      <td>Poor story, only reasonable otherwise.\\nIf I h...</td>\n",
              "      <td>3</td>\n",
              "    </tr>\n",
              "    <tr>\n",
              "      <th>3</th>\n",
              "      <td>3</td>\n",
              "      <td>Ex Machina</td>\n",
              "      <td>Had Great Potential.\\nThis movie is one of the...</td>\n",
              "      <td>1</td>\n",
              "    </tr>\n",
              "    <tr>\n",
              "      <th>4</th>\n",
              "      <td>4</td>\n",
              "      <td>Eternals</td>\n",
              "      <td>Amazing visuals and philosophical concepts!\\n\\...</td>\n",
              "      <td>10</td>\n",
              "    </tr>\n",
              "    <tr>\n",
              "      <th>5</th>\n",
              "      <td>5</td>\n",
              "      <td>Eternals</td>\n",
              "      <td>Worst MCU film ever\\n\\nFollowing the events of...</td>\n",
              "      <td>3</td>\n",
              "    </tr>\n",
              "  </tbody>\n",
              "</table>\n",
              "</div>\n",
              "    <div class=\"colab-df-buttons\">\n",
              "\n",
              "  <div class=\"colab-df-container\">\n",
              "    <button class=\"colab-df-convert\" onclick=\"convertToInteractive('df-f7308f0e-68d2-4c42-80e3-289032ed2a9d')\"\n",
              "            title=\"Convert this dataframe to an interactive table.\"\n",
              "            style=\"display:none;\">\n",
              "\n",
              "  <svg xmlns=\"http://www.w3.org/2000/svg\" height=\"24px\" viewBox=\"0 -960 960 960\">\n",
              "    <path d=\"M120-120v-720h720v720H120Zm60-500h600v-160H180v160Zm220 220h160v-160H400v160Zm0 220h160v-160H400v160ZM180-400h160v-160H180v160Zm440 0h160v-160H620v160ZM180-180h160v-160H180v160Zm440 0h160v-160H620v160Z\"/>\n",
              "  </svg>\n",
              "    </button>\n",
              "\n",
              "  <style>\n",
              "    .colab-df-container {\n",
              "      display:flex;\n",
              "      gap: 12px;\n",
              "    }\n",
              "\n",
              "    .colab-df-convert {\n",
              "      background-color: #E8F0FE;\n",
              "      border: none;\n",
              "      border-radius: 50%;\n",
              "      cursor: pointer;\n",
              "      display: none;\n",
              "      fill: #1967D2;\n",
              "      height: 32px;\n",
              "      padding: 0 0 0 0;\n",
              "      width: 32px;\n",
              "    }\n",
              "\n",
              "    .colab-df-convert:hover {\n",
              "      background-color: #E2EBFA;\n",
              "      box-shadow: 0px 1px 2px rgba(60, 64, 67, 0.3), 0px 1px 3px 1px rgba(60, 64, 67, 0.15);\n",
              "      fill: #174EA6;\n",
              "    }\n",
              "\n",
              "    .colab-df-buttons div {\n",
              "      margin-bottom: 4px;\n",
              "    }\n",
              "\n",
              "    [theme=dark] .colab-df-convert {\n",
              "      background-color: #3B4455;\n",
              "      fill: #D2E3FC;\n",
              "    }\n",
              "\n",
              "    [theme=dark] .colab-df-convert:hover {\n",
              "      background-color: #434B5C;\n",
              "      box-shadow: 0px 1px 3px 1px rgba(0, 0, 0, 0.15);\n",
              "      filter: drop-shadow(0px 1px 2px rgba(0, 0, 0, 0.3));\n",
              "      fill: #FFFFFF;\n",
              "    }\n",
              "  </style>\n",
              "\n",
              "    <script>\n",
              "      const buttonEl =\n",
              "        document.querySelector('#df-f7308f0e-68d2-4c42-80e3-289032ed2a9d button.colab-df-convert');\n",
              "      buttonEl.style.display =\n",
              "        google.colab.kernel.accessAllowed ? 'block' : 'none';\n",
              "\n",
              "      async function convertToInteractive(key) {\n",
              "        const element = document.querySelector('#df-f7308f0e-68d2-4c42-80e3-289032ed2a9d');\n",
              "        const dataTable =\n",
              "          await google.colab.kernel.invokeFunction('convertToInteractive',\n",
              "                                                    [key], {});\n",
              "        if (!dataTable) return;\n",
              "\n",
              "        const docLinkHtml = 'Like what you see? Visit the ' +\n",
              "          '<a target=\"_blank\" href=https://colab.research.google.com/notebooks/data_table.ipynb>data table notebook</a>'\n",
              "          + ' to learn more about interactive tables.';\n",
              "        element.innerHTML = '';\n",
              "        dataTable['output_type'] = 'display_data';\n",
              "        await google.colab.output.renderOutput(dataTable, element);\n",
              "        const docLink = document.createElement('div');\n",
              "        docLink.innerHTML = docLinkHtml;\n",
              "        element.appendChild(docLink);\n",
              "      }\n",
              "    </script>\n",
              "  </div>\n",
              "\n",
              "\n",
              "<div id=\"df-374b012d-12ba-4ed9-9cdc-1c4a46901f62\">\n",
              "  <button class=\"colab-df-quickchart\" onclick=\"quickchart('df-374b012d-12ba-4ed9-9cdc-1c4a46901f62')\"\n",
              "            title=\"Suggest charts\"\n",
              "            style=\"display:none;\">\n",
              "\n",
              "<svg xmlns=\"http://www.w3.org/2000/svg\" height=\"24px\"viewBox=\"0 0 24 24\"\n",
              "     width=\"24px\">\n",
              "    <g>\n",
              "        <path d=\"M19 3H5c-1.1 0-2 .9-2 2v14c0 1.1.9 2 2 2h14c1.1 0 2-.9 2-2V5c0-1.1-.9-2-2-2zM9 17H7v-7h2v7zm4 0h-2V7h2v10zm4 0h-2v-4h2v4z\"/>\n",
              "    </g>\n",
              "</svg>\n",
              "  </button>\n",
              "\n",
              "<style>\n",
              "  .colab-df-quickchart {\n",
              "      --bg-color: #E8F0FE;\n",
              "      --fill-color: #1967D2;\n",
              "      --hover-bg-color: #E2EBFA;\n",
              "      --hover-fill-color: #174EA6;\n",
              "      --disabled-fill-color: #AAA;\n",
              "      --disabled-bg-color: #DDD;\n",
              "  }\n",
              "\n",
              "  [theme=dark] .colab-df-quickchart {\n",
              "      --bg-color: #3B4455;\n",
              "      --fill-color: #D2E3FC;\n",
              "      --hover-bg-color: #434B5C;\n",
              "      --hover-fill-color: #FFFFFF;\n",
              "      --disabled-bg-color: #3B4455;\n",
              "      --disabled-fill-color: #666;\n",
              "  }\n",
              "\n",
              "  .colab-df-quickchart {\n",
              "    background-color: var(--bg-color);\n",
              "    border: none;\n",
              "    border-radius: 50%;\n",
              "    cursor: pointer;\n",
              "    display: none;\n",
              "    fill: var(--fill-color);\n",
              "    height: 32px;\n",
              "    padding: 0;\n",
              "    width: 32px;\n",
              "  }\n",
              "\n",
              "  .colab-df-quickchart:hover {\n",
              "    background-color: var(--hover-bg-color);\n",
              "    box-shadow: 0 1px 2px rgba(60, 64, 67, 0.3), 0 1px 3px 1px rgba(60, 64, 67, 0.15);\n",
              "    fill: var(--button-hover-fill-color);\n",
              "  }\n",
              "\n",
              "  .colab-df-quickchart-complete:disabled,\n",
              "  .colab-df-quickchart-complete:disabled:hover {\n",
              "    background-color: var(--disabled-bg-color);\n",
              "    fill: var(--disabled-fill-color);\n",
              "    box-shadow: none;\n",
              "  }\n",
              "\n",
              "  .colab-df-spinner {\n",
              "    border: 2px solid var(--fill-color);\n",
              "    border-color: transparent;\n",
              "    border-bottom-color: var(--fill-color);\n",
              "    animation:\n",
              "      spin 1s steps(1) infinite;\n",
              "  }\n",
              "\n",
              "  @keyframes spin {\n",
              "    0% {\n",
              "      border-color: transparent;\n",
              "      border-bottom-color: var(--fill-color);\n",
              "      border-left-color: var(--fill-color);\n",
              "    }\n",
              "    20% {\n",
              "      border-color: transparent;\n",
              "      border-left-color: var(--fill-color);\n",
              "      border-top-color: var(--fill-color);\n",
              "    }\n",
              "    30% {\n",
              "      border-color: transparent;\n",
              "      border-left-color: var(--fill-color);\n",
              "      border-top-color: var(--fill-color);\n",
              "      border-right-color: var(--fill-color);\n",
              "    }\n",
              "    40% {\n",
              "      border-color: transparent;\n",
              "      border-right-color: var(--fill-color);\n",
              "      border-top-color: var(--fill-color);\n",
              "    }\n",
              "    60% {\n",
              "      border-color: transparent;\n",
              "      border-right-color: var(--fill-color);\n",
              "    }\n",
              "    80% {\n",
              "      border-color: transparent;\n",
              "      border-right-color: var(--fill-color);\n",
              "      border-bottom-color: var(--fill-color);\n",
              "    }\n",
              "    90% {\n",
              "      border-color: transparent;\n",
              "      border-bottom-color: var(--fill-color);\n",
              "    }\n",
              "  }\n",
              "</style>\n",
              "\n",
              "  <script>\n",
              "    async function quickchart(key) {\n",
              "      const quickchartButtonEl =\n",
              "        document.querySelector('#' + key + ' button');\n",
              "      quickchartButtonEl.disabled = true;  // To prevent multiple clicks.\n",
              "      quickchartButtonEl.classList.add('colab-df-spinner');\n",
              "      try {\n",
              "        const charts = await google.colab.kernel.invokeFunction(\n",
              "            'suggestCharts', [key], {});\n",
              "      } catch (error) {\n",
              "        console.error('Error during call to suggestCharts:', error);\n",
              "      }\n",
              "      quickchartButtonEl.classList.remove('colab-df-spinner');\n",
              "      quickchartButtonEl.classList.add('colab-df-quickchart-complete');\n",
              "    }\n",
              "    (() => {\n",
              "      let quickchartButtonEl =\n",
              "        document.querySelector('#df-374b012d-12ba-4ed9-9cdc-1c4a46901f62 button');\n",
              "      quickchartButtonEl.style.display =\n",
              "        google.colab.kernel.accessAllowed ? 'block' : 'none';\n",
              "    })();\n",
              "  </script>\n",
              "</div>\n",
              "\n",
              "    </div>\n",
              "  </div>\n"
            ],
            "application/vnd.google.colaboratory.intrinsic+json": {
              "type": "dataframe",
              "variable_name": "sample_reviews",
              "summary": "{\n  \"name\": \"sample_reviews\",\n  \"rows\": 6,\n  \"fields\": [\n    {\n      \"column\": \"Unnamed: 0\",\n      \"properties\": {\n        \"dtype\": \"number\",\n        \"std\": 1,\n        \"min\": 0,\n        \"max\": 5,\n        \"num_unique_values\": 6,\n        \"samples\": [\n          0,\n          1,\n          5\n        ],\n        \"semantic_type\": \"\",\n        \"description\": \"\"\n      }\n    },\n    {\n      \"column\": \"Movie\",\n      \"properties\": {\n        \"dtype\": \"category\",\n        \"num_unique_values\": 2,\n        \"samples\": [\n          \"Eternals\",\n          \"Ex Machina\"\n        ],\n        \"semantic_type\": \"\",\n        \"description\": \"\"\n      }\n    },\n    {\n      \"column\": \"Review Text\",\n      \"properties\": {\n        \"dtype\": \"string\",\n        \"num_unique_values\": 6,\n        \"samples\": [\n          \"Intelligent Movie.\\nThis movie is obviously allegorical, a fascinating tale about AI, but it is mainly about manipulation and power. It isn't for those wanting action or spectacular CGI, the movie is aimed at people who like to think, rather than passively wait to be entertained. There are themes here not only about AI, but also about surveillance, with excellent points about how data about us is collected by phone companies, search engine companies, commercial operating systems makers and so on. The plot seems simple but isn't, it's extremely clever, with the protagonist playing games, trying to stay one step ahead of one another. This is a movie with perfectly consistent internal logic that plays out perfectly. Don't go in expecting too much, however, as I can see most people will not be satisfied by this movie, but for me, it does what it sets out to do brilliantly. Therefore I give at least 9/10. And most recent movies have been getting 5/10 from me. This movie succeeds where another recent movie about AI, Transcendence, I think it is called, failed (but it was an interesting failure). A third movie about AI, a Spanish movie called Eva, was also brilliant. Eva was more moving and this movie more philosophical. But both movies were perfect in their different ways. The AI's name in this movie, Ava, seems to be a nod to the title of the Spanish movie. As an aside, it's nice that no \\\"stars\\\" appeared in \\\"Ex Machina\\\" and \\\"Eva\\\", the casting was great. Of course there are several aspects of this movie that are unrealistic and often absurd. But because this is an allegorical movie, these are acceptable, because the movie is making points, rather than striving for realism. It's more of a fairytale than accurate portrayal.\",\n          \"Extraordinary and thought-provoking.\\n'Ex machina' is surprisingly dense, more so than other titles Alex Garland has written, perhaps excepting only 'Annihilation.' The simple concept is given a definite narrative, but that narrative pointedly explores the very nature of thought, and perception, and further broaching the nature and ramifications of morality. This is a psychological thriller, and in fundamental construction and in minute rendering alike, it is more intense than any other feature in the genre that I can name offhand, so much so as to almost classify as horror. The movie emphasizes and plays on dire uncertainty of intent, motivation, and reality all the way through to the climax, and even then leaves us with a somewhat ambiguous ending. And from ordinary beginning to captivating ending, at every point 'Ex machina' is absolutely marvelous.\\n\\nOf any performance I've seen from Oscar Isaac, none have been nearly so forceful as his portrayal of Nathan, exhibiting outstanding nuance and sharp personality in the realization of a man exceptionally intelligent, and exceptionally cruel and conniving. I'm not especially familiar with Domhnall Gleeson, but the Irish actor demonstrates admirable range and poise readily matching the same traits that are more immediately notable in his costars. And with that said - certainly not to count out anyone else involved - Alicia Vikander is phenomenal as Ava, showing a careful exactness to every motion and expression befitting the character, and impressing with her skills in the most subtle of ways.\\n\\nI love the score composed between Ben Salisbury and Geoff Barrow, lending to the pensive unease about the film and building to a great crescendo at the precise appropriate moments. The sound design is exquisite - soft and unobtrusive, and with those qualities denoting both the meticulous craft of the feature, and the highly advanced status of Ava. So it is, too, with the special effects; to read a little bit of the production history informs of the substantial effort made to ensure every element of Nathan's creation was visualized with the utmost possibility of realism. And I think that endeavor paid off handsomely.\\n\\nThe characters as written are wonderfully complex, and the dialogue deceptively so. Garland's scene writing is impeccable and deeply engrossing, to say nothing of the overall narrative that delves into such heavy subject matter. Even being aware of the acclaim the feature had garnered since its release, I wasn't wholly sure what to expect as I sat to watch. What I got far exceeded anything I had imagined, mostly stepping away significantly from the common story ideas that populate most sci-fi films about artificial intelligence. Garland's screenplay analyzes consciousness with depth, completeness, and potency that I wouldn't have anticipated from a genre picture, and the result is so terrifically engaging as to be exhilarating. Factor in sound performances and excellent music, and 'Ex machina' is a firmly first-rate slice of science fiction that I call a must-see.\"\n        ],\n        \"semantic_type\": \"\",\n        \"description\": \"\"\n      }\n    },\n    {\n      \"column\": \"IMDb Rating\",\n      \"properties\": {\n        \"dtype\": \"number\",\n        \"std\": 4,\n        \"min\": 1,\n        \"max\": 10,\n        \"num_unique_values\": 4,\n        \"samples\": [\n          10,\n          1\n        ],\n        \"semantic_type\": \"\",\n        \"description\": \"\"\n      }\n    }\n  ]\n}"
            }
          },
          "metadata": {},
          "execution_count": 141
        }
      ],
      "source": [
        "# Load sample IMDb reviews csv, having ~6 movie reviews, along with their IMDb rating\n",
        "url2='https://raw.githubusercontent.com/skillcate/sentiment-analysis-with-deep-neural-networks/main/a2_IMDb_Unseen_Reviews.csv'\n",
        "sample_reviews = pd.read_csv(url2)\n",
        "\n",
        "sample_reviews.head(6)"
      ]
    },
    {
      "cell_type": "code",
      "execution_count": 145,
      "metadata": {
        "id": "aiXGG5k9VLVv"
      },
      "outputs": [],
      "source": [
        "# Preprocess review text with earlier defined preprocess_text function\n",
        "\n",
        "unseen_reviews = sample_reviews['Review Text']\n",
        "#unseen_reviews\n",
        "unseen_processed =  [preprocess_text(review) for review in unseen_reviews]\n",
        "\n"
      ]
    },
    {
      "cell_type": "code",
      "execution_count": 147,
      "metadata": {
        "id": "PbE0jwXU_QCw",
        "outputId": "3c63f53c-074e-467e-9c8e-cf13ad83d3dc",
        "colab": {
          "base_uri": "https://localhost:8080/",
          "height": 234
        }
      },
      "outputs": [
        {
          "output_type": "execute_result",
          "data": {
            "text/plain": [
              "'poor story reasonable otherwise realised alex garland would bothered watching remember reading book beach year ago thinking something nice time sure seen ex machina feeling story chosen simply appeal large audience rather manipulative unthinking unfeeling way normally write bad review anything preferring focus positive dislike felt write something put people wasting time assimilating nastiness case ex machina imagine garland wondering would next project googling ai quickly finding ai box experiment rather heart soul searching work would necessary produce anything original imagine quickly turning somebody else idea next big proposal present film studio unoriginal idea presented fairly pedestrian way lot image derived young person view sexuality made also wonder film rather prejudiced woman reasonably paced found yawning lot quite would expect good thriller domhnall gleeson ok pretty good job'"
            ],
            "application/vnd.google.colaboratory.intrinsic+json": {
              "type": "string"
            }
          },
          "metadata": {},
          "execution_count": 147
        }
      ],
      "source": [
        "unseen_processed[2]"
      ]
    },
    {
      "cell_type": "code",
      "execution_count": 148,
      "metadata": {
        "id": "uAVkqjxC_QCy"
      },
      "outputs": [],
      "source": [
        "from keras_preprocessing.text import tokenizer_from_json"
      ]
    },
    {
      "cell_type": "code",
      "execution_count": 149,
      "metadata": {
        "id": "rRQVoNa8_QC0"
      },
      "outputs": [],
      "source": [
        "# Loading\n",
        "with open('b3_tokenizer.json') as f:\n",
        "    data = json.load(f)\n",
        "    loaded_tokenizer = tokenizer_from_json(data)"
      ]
    },
    {
      "cell_type": "code",
      "execution_count": 150,
      "metadata": {
        "id": "A8Ln84UfVZhz"
      },
      "outputs": [],
      "source": [
        "# Tokenising instance with earlier trained tokeniser\n",
        "unseen_tokenized = loaded_tokenizer.texts_to_sequences(unseen_processed)"
      ]
    },
    {
      "cell_type": "code",
      "execution_count": 152,
      "metadata": {
        "id": "PuydDJue_QC3",
        "outputId": "5040d274-5b2a-4a65-9d61-7b54b42246de",
        "colab": {
          "base_uri": "https://localhost:8080/",
          "height": 0
        }
      },
      "outputs": [
        {
          "output_type": "execute_result",
          "data": {
            "text/plain": [
              "[216,\n",
              " 9,\n",
              " 3439,\n",
              " 760,\n",
              " 5000,\n",
              " 1850,\n",
              " 5915,\n",
              " 8,\n",
              " 2324,\n",
              " 54,\n",
              " 269,\n",
              " 748,\n",
              " 161,\n",
              " 2006,\n",
              " 176,\n",
              " 464,\n",
              " 404,\n",
              " 50,\n",
              " 213,\n",
              " 6,\n",
              " 139,\n",
              " 30,\n",
              " 1040,\n",
              " 14943,\n",
              " 423,\n",
              " 9,\n",
              " 2163,\n",
              " 217,\n",
              " 1163,\n",
              " 871,\n",
              " 185,\n",
              " 140,\n",
              " 4927,\n",
              " 23860,\n",
              " 21803,\n",
              " 23,\n",
              " 1708,\n",
              " 747,\n",
              " 14,\n",
              " 572,\n",
              " 123,\n",
              " 15304,\n",
              " 971,\n",
              " 992,\n",
              " 2918,\n",
              " 321,\n",
              " 747,\n",
              " 50,\n",
              " 155,\n",
              " 16,\n",
              " 2970,\n",
              " 6,\n",
              " 40801,\n",
              " 15273,\n",
              " 290,\n",
              " 1040,\n",
              " 14943,\n",
              " 679,\n",
              " 5915,\n",
              " 1357,\n",
              " 8,\n",
              " 246,\n",
              " 974,\n",
              " 87904,\n",
              " 14035,\n",
              " 774,\n",
              " 1273,\n",
              " 14035,\n",
              " 714,\n",
              " 2705,\n",
              " 140,\n",
              " 354,\n",
              " 1116,\n",
              " 2975,\n",
              " 64,\n",
              " 8,\n",
              " 1570,\n",
              " 2154,\n",
              " 123,\n",
              " 102,\n",
              " 679,\n",
              " 774,\n",
              " 1433,\n",
              " 1566,\n",
              " 209,\n",
              " 206,\n",
              " 246,\n",
              " 89,\n",
              " 10042,\n",
              " 826,\n",
              " 2,\n",
              " 988,\n",
              " 4236,\n",
              " 206,\n",
              " 1207,\n",
              " 841,\n",
              " 6386,\n",
              " 23,\n",
              " 70,\n",
              " 1256,\n",
              " 7531,\n",
              " 84,\n",
              " 266,\n",
              " 490,\n",
              " 2787,\n",
              " 20,\n",
              " 18,\n",
              " 440,\n",
              " 2,\n",
              " 140,\n",
              " 14257,\n",
              " 138,\n",
              " 3490,\n",
              " 1617,\n",
              " 142,\n",
              " 15331,\n",
              " 70,\n",
              " 78,\n",
              " 8,\n",
              " 387,\n",
              " 5,\n",
              " 556,\n",
              " 22318,\n",
              " 430,\n",
              " 81,\n",
              " 5,\n",
              " 181]"
            ]
          },
          "metadata": {},
          "execution_count": 152
        }
      ],
      "source": [
        "unseen_tokenized[2]"
      ]
    },
    {
      "cell_type": "code",
      "execution_count": 153,
      "metadata": {
        "id": "0cYt7Kqp_QC5"
      },
      "outputs": [],
      "source": [
        "# Pooling instance to have maxlength of 100 tokens\n",
        "unseen_padded = pad_sequences(unseen_tokenized, padding='post', maxlen=100)"
      ]
    },
    {
      "cell_type": "code",
      "execution_count": 154,
      "metadata": {
        "id": "Bs_qwSHy_QC6",
        "outputId": "9f1a64dc-da2e-4c56-977a-2dcc7667e5c6",
        "colab": {
          "base_uri": "https://localhost:8080/",
          "height": 0
        }
      },
      "outputs": [
        {
          "output_type": "execute_result",
          "data": {
            "text/plain": [
              "array([  217,  1163,   871,   185,   140,  4927, 23860, 21803,    23,\n",
              "        1708,   747,    14,   572,   123, 15304,   971,   992,  2918,\n",
              "         321,   747,    50,   155,    16,  2970,     6, 40801, 15273,\n",
              "         290,  1040, 14943,   679,  5915,  1357,     8,   246,   974,\n",
              "       87904, 14035,   774,  1273, 14035,   714,  2705,   140,   354,\n",
              "        1116,  2975,    64,     8,  1570,  2154,   123,   102,   679,\n",
              "         774,  1433,  1566,   209,   206,   246,    89, 10042,   826,\n",
              "           2,   988,  4236,   206,  1207,   841,  6386,    23,    70,\n",
              "        1256,  7531,    84,   266,   490,  2787,    20,    18,   440,\n",
              "           2,   140, 14257,   138,  3490,  1617,   142, 15331,    70,\n",
              "          78,     8,   387,     5,   556, 22318,   430,    81,     5,\n",
              "         181], dtype=int32)"
            ]
          },
          "metadata": {},
          "execution_count": 154
        }
      ],
      "source": [
        "unseen_padded[2]"
      ]
    },
    {
      "cell_type": "code",
      "execution_count": 155,
      "metadata": {
        "colab": {
          "base_uri": "https://localhost:8080/",
          "height": 0
        },
        "id": "4bh5LsCZhy7r",
        "outputId": "4255e16d-de8b-4861-c649-90ef060b4c77"
      },
      "outputs": [
        {
          "output_type": "stream",
          "name": "stdout",
          "text": [
            "1/1 [==============================] - 1s 878ms/step\n"
          ]
        },
        {
          "output_type": "execute_result",
          "data": {
            "text/plain": [
              "array([[0.86242914],\n",
              "       [0.9929711 ],\n",
              "       [0.32016033],\n",
              "       [0.17577358],\n",
              "       [0.9745219 ],\n",
              "       [0.0376893 ]], dtype=float32)"
            ]
          },
          "metadata": {},
          "execution_count": 155
        }
      ],
      "source": [
        "# Passing tokenised instance to the LSTM model for predictions\n",
        "unseen_sentiments = pretrained_lstm_model.predict(unseen_padded)\n",
        "\n",
        "unseen_sentiments"
      ]
    },
    {
      "cell_type": "code",
      "execution_count": 156,
      "metadata": {
        "colab": {
          "base_uri": "https://localhost:8080/",
          "height": 238
        },
        "id": "b6W2OOeupUX8",
        "outputId": "aeece187-054c-4fa8-decf-38e0857046ff"
      },
      "outputs": [
        {
          "output_type": "execute_result",
          "data": {
            "text/plain": [
              "        Movie                                        Review Text  IMDb Rating  \\\n",
              "0  Ex Machina  Intelligent Movie.\\nThis movie is obviously al...            9   \n",
              "1  Ex Machina  Extraordinary and thought-provoking.\\n'Ex mach...           10   \n",
              "2  Ex Machina  Poor story, only reasonable otherwise.\\nIf I h...            3   \n",
              "3  Ex Machina  Had Great Potential.\\nThis movie is one of the...            1   \n",
              "4    Eternals  Amazing visuals and philosophical concepts!\\n\\...           10   \n",
              "5    Eternals  Worst MCU film ever\\n\\nFollowing the events of...            3   \n",
              "\n",
              "   Predicted Sentiments  \n",
              "0                   8.6  \n",
              "1                   9.9  \n",
              "2                   3.2  \n",
              "3                   1.8  \n",
              "4                   9.7  \n",
              "5                   0.4  "
            ],
            "text/html": [
              "\n",
              "  <div id=\"df-84cd1511-f1b4-46ba-933f-32ff32defb80\" class=\"colab-df-container\">\n",
              "    <div>\n",
              "<style scoped>\n",
              "    .dataframe tbody tr th:only-of-type {\n",
              "        vertical-align: middle;\n",
              "    }\n",
              "\n",
              "    .dataframe tbody tr th {\n",
              "        vertical-align: top;\n",
              "    }\n",
              "\n",
              "    .dataframe thead th {\n",
              "        text-align: right;\n",
              "    }\n",
              "</style>\n",
              "<table border=\"1\" class=\"dataframe\">\n",
              "  <thead>\n",
              "    <tr style=\"text-align: right;\">\n",
              "      <th></th>\n",
              "      <th>Movie</th>\n",
              "      <th>Review Text</th>\n",
              "      <th>IMDb Rating</th>\n",
              "      <th>Predicted Sentiments</th>\n",
              "    </tr>\n",
              "  </thead>\n",
              "  <tbody>\n",
              "    <tr>\n",
              "      <th>0</th>\n",
              "      <td>Ex Machina</td>\n",
              "      <td>Intelligent Movie.\\nThis movie is obviously al...</td>\n",
              "      <td>9</td>\n",
              "      <td>8.6</td>\n",
              "    </tr>\n",
              "    <tr>\n",
              "      <th>1</th>\n",
              "      <td>Ex Machina</td>\n",
              "      <td>Extraordinary and thought-provoking.\\n'Ex mach...</td>\n",
              "      <td>10</td>\n",
              "      <td>9.9</td>\n",
              "    </tr>\n",
              "    <tr>\n",
              "      <th>2</th>\n",
              "      <td>Ex Machina</td>\n",
              "      <td>Poor story, only reasonable otherwise.\\nIf I h...</td>\n",
              "      <td>3</td>\n",
              "      <td>3.2</td>\n",
              "    </tr>\n",
              "    <tr>\n",
              "      <th>3</th>\n",
              "      <td>Ex Machina</td>\n",
              "      <td>Had Great Potential.\\nThis movie is one of the...</td>\n",
              "      <td>1</td>\n",
              "      <td>1.8</td>\n",
              "    </tr>\n",
              "    <tr>\n",
              "      <th>4</th>\n",
              "      <td>Eternals</td>\n",
              "      <td>Amazing visuals and philosophical concepts!\\n\\...</td>\n",
              "      <td>10</td>\n",
              "      <td>9.7</td>\n",
              "    </tr>\n",
              "    <tr>\n",
              "      <th>5</th>\n",
              "      <td>Eternals</td>\n",
              "      <td>Worst MCU film ever\\n\\nFollowing the events of...</td>\n",
              "      <td>3</td>\n",
              "      <td>0.4</td>\n",
              "    </tr>\n",
              "  </tbody>\n",
              "</table>\n",
              "</div>\n",
              "    <div class=\"colab-df-buttons\">\n",
              "\n",
              "  <div class=\"colab-df-container\">\n",
              "    <button class=\"colab-df-convert\" onclick=\"convertToInteractive('df-84cd1511-f1b4-46ba-933f-32ff32defb80')\"\n",
              "            title=\"Convert this dataframe to an interactive table.\"\n",
              "            style=\"display:none;\">\n",
              "\n",
              "  <svg xmlns=\"http://www.w3.org/2000/svg\" height=\"24px\" viewBox=\"0 -960 960 960\">\n",
              "    <path d=\"M120-120v-720h720v720H120Zm60-500h600v-160H180v160Zm220 220h160v-160H400v160Zm0 220h160v-160H400v160ZM180-400h160v-160H180v160Zm440 0h160v-160H620v160ZM180-180h160v-160H180v160Zm440 0h160v-160H620v160Z\"/>\n",
              "  </svg>\n",
              "    </button>\n",
              "\n",
              "  <style>\n",
              "    .colab-df-container {\n",
              "      display:flex;\n",
              "      gap: 12px;\n",
              "    }\n",
              "\n",
              "    .colab-df-convert {\n",
              "      background-color: #E8F0FE;\n",
              "      border: none;\n",
              "      border-radius: 50%;\n",
              "      cursor: pointer;\n",
              "      display: none;\n",
              "      fill: #1967D2;\n",
              "      height: 32px;\n",
              "      padding: 0 0 0 0;\n",
              "      width: 32px;\n",
              "    }\n",
              "\n",
              "    .colab-df-convert:hover {\n",
              "      background-color: #E2EBFA;\n",
              "      box-shadow: 0px 1px 2px rgba(60, 64, 67, 0.3), 0px 1px 3px 1px rgba(60, 64, 67, 0.15);\n",
              "      fill: #174EA6;\n",
              "    }\n",
              "\n",
              "    .colab-df-buttons div {\n",
              "      margin-bottom: 4px;\n",
              "    }\n",
              "\n",
              "    [theme=dark] .colab-df-convert {\n",
              "      background-color: #3B4455;\n",
              "      fill: #D2E3FC;\n",
              "    }\n",
              "\n",
              "    [theme=dark] .colab-df-convert:hover {\n",
              "      background-color: #434B5C;\n",
              "      box-shadow: 0px 1px 3px 1px rgba(0, 0, 0, 0.15);\n",
              "      filter: drop-shadow(0px 1px 2px rgba(0, 0, 0, 0.3));\n",
              "      fill: #FFFFFF;\n",
              "    }\n",
              "  </style>\n",
              "\n",
              "    <script>\n",
              "      const buttonEl =\n",
              "        document.querySelector('#df-84cd1511-f1b4-46ba-933f-32ff32defb80 button.colab-df-convert');\n",
              "      buttonEl.style.display =\n",
              "        google.colab.kernel.accessAllowed ? 'block' : 'none';\n",
              "\n",
              "      async function convertToInteractive(key) {\n",
              "        const element = document.querySelector('#df-84cd1511-f1b4-46ba-933f-32ff32defb80');\n",
              "        const dataTable =\n",
              "          await google.colab.kernel.invokeFunction('convertToInteractive',\n",
              "                                                    [key], {});\n",
              "        if (!dataTable) return;\n",
              "\n",
              "        const docLinkHtml = 'Like what you see? Visit the ' +\n",
              "          '<a target=\"_blank\" href=https://colab.research.google.com/notebooks/data_table.ipynb>data table notebook</a>'\n",
              "          + ' to learn more about interactive tables.';\n",
              "        element.innerHTML = '';\n",
              "        dataTable['output_type'] = 'display_data';\n",
              "        await google.colab.output.renderOutput(dataTable, element);\n",
              "        const docLink = document.createElement('div');\n",
              "        docLink.innerHTML = docLinkHtml;\n",
              "        element.appendChild(docLink);\n",
              "      }\n",
              "    </script>\n",
              "  </div>\n",
              "\n",
              "\n",
              "<div id=\"df-74b63969-93c5-404d-9f4a-ba26c488048f\">\n",
              "  <button class=\"colab-df-quickchart\" onclick=\"quickchart('df-74b63969-93c5-404d-9f4a-ba26c488048f')\"\n",
              "            title=\"Suggest charts\"\n",
              "            style=\"display:none;\">\n",
              "\n",
              "<svg xmlns=\"http://www.w3.org/2000/svg\" height=\"24px\"viewBox=\"0 0 24 24\"\n",
              "     width=\"24px\">\n",
              "    <g>\n",
              "        <path d=\"M19 3H5c-1.1 0-2 .9-2 2v14c0 1.1.9 2 2 2h14c1.1 0 2-.9 2-2V5c0-1.1-.9-2-2-2zM9 17H7v-7h2v7zm4 0h-2V7h2v10zm4 0h-2v-4h2v4z\"/>\n",
              "    </g>\n",
              "</svg>\n",
              "  </button>\n",
              "\n",
              "<style>\n",
              "  .colab-df-quickchart {\n",
              "      --bg-color: #E8F0FE;\n",
              "      --fill-color: #1967D2;\n",
              "      --hover-bg-color: #E2EBFA;\n",
              "      --hover-fill-color: #174EA6;\n",
              "      --disabled-fill-color: #AAA;\n",
              "      --disabled-bg-color: #DDD;\n",
              "  }\n",
              "\n",
              "  [theme=dark] .colab-df-quickchart {\n",
              "      --bg-color: #3B4455;\n",
              "      --fill-color: #D2E3FC;\n",
              "      --hover-bg-color: #434B5C;\n",
              "      --hover-fill-color: #FFFFFF;\n",
              "      --disabled-bg-color: #3B4455;\n",
              "      --disabled-fill-color: #666;\n",
              "  }\n",
              "\n",
              "  .colab-df-quickchart {\n",
              "    background-color: var(--bg-color);\n",
              "    border: none;\n",
              "    border-radius: 50%;\n",
              "    cursor: pointer;\n",
              "    display: none;\n",
              "    fill: var(--fill-color);\n",
              "    height: 32px;\n",
              "    padding: 0;\n",
              "    width: 32px;\n",
              "  }\n",
              "\n",
              "  .colab-df-quickchart:hover {\n",
              "    background-color: var(--hover-bg-color);\n",
              "    box-shadow: 0 1px 2px rgba(60, 64, 67, 0.3), 0 1px 3px 1px rgba(60, 64, 67, 0.15);\n",
              "    fill: var(--button-hover-fill-color);\n",
              "  }\n",
              "\n",
              "  .colab-df-quickchart-complete:disabled,\n",
              "  .colab-df-quickchart-complete:disabled:hover {\n",
              "    background-color: var(--disabled-bg-color);\n",
              "    fill: var(--disabled-fill-color);\n",
              "    box-shadow: none;\n",
              "  }\n",
              "\n",
              "  .colab-df-spinner {\n",
              "    border: 2px solid var(--fill-color);\n",
              "    border-color: transparent;\n",
              "    border-bottom-color: var(--fill-color);\n",
              "    animation:\n",
              "      spin 1s steps(1) infinite;\n",
              "  }\n",
              "\n",
              "  @keyframes spin {\n",
              "    0% {\n",
              "      border-color: transparent;\n",
              "      border-bottom-color: var(--fill-color);\n",
              "      border-left-color: var(--fill-color);\n",
              "    }\n",
              "    20% {\n",
              "      border-color: transparent;\n",
              "      border-left-color: var(--fill-color);\n",
              "      border-top-color: var(--fill-color);\n",
              "    }\n",
              "    30% {\n",
              "      border-color: transparent;\n",
              "      border-left-color: var(--fill-color);\n",
              "      border-top-color: var(--fill-color);\n",
              "      border-right-color: var(--fill-color);\n",
              "    }\n",
              "    40% {\n",
              "      border-color: transparent;\n",
              "      border-right-color: var(--fill-color);\n",
              "      border-top-color: var(--fill-color);\n",
              "    }\n",
              "    60% {\n",
              "      border-color: transparent;\n",
              "      border-right-color: var(--fill-color);\n",
              "    }\n",
              "    80% {\n",
              "      border-color: transparent;\n",
              "      border-right-color: var(--fill-color);\n",
              "      border-bottom-color: var(--fill-color);\n",
              "    }\n",
              "    90% {\n",
              "      border-color: transparent;\n",
              "      border-bottom-color: var(--fill-color);\n",
              "    }\n",
              "  }\n",
              "</style>\n",
              "\n",
              "  <script>\n",
              "    async function quickchart(key) {\n",
              "      const quickchartButtonEl =\n",
              "        document.querySelector('#' + key + ' button');\n",
              "      quickchartButtonEl.disabled = true;  // To prevent multiple clicks.\n",
              "      quickchartButtonEl.classList.add('colab-df-spinner');\n",
              "      try {\n",
              "        const charts = await google.colab.kernel.invokeFunction(\n",
              "            'suggestCharts', [key], {});\n",
              "      } catch (error) {\n",
              "        console.error('Error during call to suggestCharts:', error);\n",
              "      }\n",
              "      quickchartButtonEl.classList.remove('colab-df-spinner');\n",
              "      quickchartButtonEl.classList.add('colab-df-quickchart-complete');\n",
              "    }\n",
              "    (() => {\n",
              "      let quickchartButtonEl =\n",
              "        document.querySelector('#df-74b63969-93c5-404d-9f4a-ba26c488048f button');\n",
              "      quickchartButtonEl.style.display =\n",
              "        google.colab.kernel.accessAllowed ? 'block' : 'none';\n",
              "    })();\n",
              "  </script>\n",
              "</div>\n",
              "\n",
              "    </div>\n",
              "  </div>\n"
            ],
            "application/vnd.google.colaboratory.intrinsic+json": {
              "type": "dataframe",
              "variable_name": "dfx",
              "summary": "{\n  \"name\": \"dfx\",\n  \"rows\": 6,\n  \"fields\": [\n    {\n      \"column\": \"Movie\",\n      \"properties\": {\n        \"dtype\": \"category\",\n        \"num_unique_values\": 2,\n        \"samples\": [\n          \"Eternals\",\n          \"Ex Machina\"\n        ],\n        \"semantic_type\": \"\",\n        \"description\": \"\"\n      }\n    },\n    {\n      \"column\": \"Review Text\",\n      \"properties\": {\n        \"dtype\": \"string\",\n        \"num_unique_values\": 6,\n        \"samples\": [\n          \"Intelligent Movie.\\nThis movie is obviously allegorical, a fascinating tale about AI, but it is mainly about manipulation and power. It isn't for those wanting action or spectacular CGI, the movie is aimed at people who like to think, rather than passively wait to be entertained. There are themes here not only about AI, but also about surveillance, with excellent points about how data about us is collected by phone companies, search engine companies, commercial operating systems makers and so on. The plot seems simple but isn't, it's extremely clever, with the protagonist playing games, trying to stay one step ahead of one another. This is a movie with perfectly consistent internal logic that plays out perfectly. Don't go in expecting too much, however, as I can see most people will not be satisfied by this movie, but for me, it does what it sets out to do brilliantly. Therefore I give at least 9/10. And most recent movies have been getting 5/10 from me. This movie succeeds where another recent movie about AI, Transcendence, I think it is called, failed (but it was an interesting failure). A third movie about AI, a Spanish movie called Eva, was also brilliant. Eva was more moving and this movie more philosophical. But both movies were perfect in their different ways. The AI's name in this movie, Ava, seems to be a nod to the title of the Spanish movie. As an aside, it's nice that no \\\"stars\\\" appeared in \\\"Ex Machina\\\" and \\\"Eva\\\", the casting was great. Of course there are several aspects of this movie that are unrealistic and often absurd. But because this is an allegorical movie, these are acceptable, because the movie is making points, rather than striving for realism. It's more of a fairytale than accurate portrayal.\",\n          \"Extraordinary and thought-provoking.\\n'Ex machina' is surprisingly dense, more so than other titles Alex Garland has written, perhaps excepting only 'Annihilation.' The simple concept is given a definite narrative, but that narrative pointedly explores the very nature of thought, and perception, and further broaching the nature and ramifications of morality. This is a psychological thriller, and in fundamental construction and in minute rendering alike, it is more intense than any other feature in the genre that I can name offhand, so much so as to almost classify as horror. The movie emphasizes and plays on dire uncertainty of intent, motivation, and reality all the way through to the climax, and even then leaves us with a somewhat ambiguous ending. And from ordinary beginning to captivating ending, at every point 'Ex machina' is absolutely marvelous.\\n\\nOf any performance I've seen from Oscar Isaac, none have been nearly so forceful as his portrayal of Nathan, exhibiting outstanding nuance and sharp personality in the realization of a man exceptionally intelligent, and exceptionally cruel and conniving. I'm not especially familiar with Domhnall Gleeson, but the Irish actor demonstrates admirable range and poise readily matching the same traits that are more immediately notable in his costars. And with that said - certainly not to count out anyone else involved - Alicia Vikander is phenomenal as Ava, showing a careful exactness to every motion and expression befitting the character, and impressing with her skills in the most subtle of ways.\\n\\nI love the score composed between Ben Salisbury and Geoff Barrow, lending to the pensive unease about the film and building to a great crescendo at the precise appropriate moments. The sound design is exquisite - soft and unobtrusive, and with those qualities denoting both the meticulous craft of the feature, and the highly advanced status of Ava. So it is, too, with the special effects; to read a little bit of the production history informs of the substantial effort made to ensure every element of Nathan's creation was visualized with the utmost possibility of realism. And I think that endeavor paid off handsomely.\\n\\nThe characters as written are wonderfully complex, and the dialogue deceptively so. Garland's scene writing is impeccable and deeply engrossing, to say nothing of the overall narrative that delves into such heavy subject matter. Even being aware of the acclaim the feature had garnered since its release, I wasn't wholly sure what to expect as I sat to watch. What I got far exceeded anything I had imagined, mostly stepping away significantly from the common story ideas that populate most sci-fi films about artificial intelligence. Garland's screenplay analyzes consciousness with depth, completeness, and potency that I wouldn't have anticipated from a genre picture, and the result is so terrifically engaging as to be exhilarating. Factor in sound performances and excellent music, and 'Ex machina' is a firmly first-rate slice of science fiction that I call a must-see.\"\n        ],\n        \"semantic_type\": \"\",\n        \"description\": \"\"\n      }\n    },\n    {\n      \"column\": \"IMDb Rating\",\n      \"properties\": {\n        \"dtype\": \"number\",\n        \"std\": 4,\n        \"min\": 1,\n        \"max\": 10,\n        \"num_unique_values\": 4,\n        \"samples\": [\n          10,\n          1\n        ],\n        \"semantic_type\": \"\",\n        \"description\": \"\"\n      }\n    },\n    {\n      \"column\": \"Predicted Sentiments\",\n      \"properties\": {\n        \"dtype\": \"float32\",\n        \"num_unique_values\": 6,\n        \"samples\": [\n          8.600000381469727,\n          9.899999618530273\n        ],\n        \"semantic_type\": \"\",\n        \"description\": \"\"\n      }\n    }\n  ]\n}"
            }
          },
          "metadata": {},
          "execution_count": 156
        }
      ],
      "source": [
        "# Writing model output file back to Google Drive\n",
        "\n",
        "sample_reviews['Predicted Sentiments'] = np.round(unseen_sentiments*10,1)\n",
        "\n",
        "df_prediction_sentiments = pd.DataFrame(sample_reviews['Predicted Sentiments'], columns = ['Predicted Sentiments'])\n",
        "df_movie                 = pd.DataFrame(sample_reviews['Movie'], columns = ['Movie'])\n",
        "df_review_text           = pd.DataFrame(sample_reviews['Review Text'], columns = ['Review Text'])\n",
        "df_imdb_rating           = pd.DataFrame(sample_reviews['IMDb Rating'], columns = ['IMDb Rating'])\n",
        "\n",
        "\n",
        "dfx=pd.concat([df_movie, df_review_text, df_imdb_rating, df_prediction_sentiments], axis=1)\n",
        "\n",
        "dfx.to_csv(\"c2_IMDb_Unseen_Predictions.csv\", sep=',', encoding='UTF-8')\n",
        "\n",
        "dfx.head(6)"
      ]
    },
    {
      "cell_type": "code",
      "execution_count": 157,
      "metadata": {
        "id": "ZAPvyiTA_QDA",
        "outputId": "b4582591-bcf3-4564-9c5a-230351e32513",
        "colab": {
          "base_uri": "https://localhost:8080/",
          "height": 0
        }
      },
      "outputs": [
        {
          "output_type": "execute_result",
          "data": {
            "text/plain": [
              "array([[0.86242914],\n",
              "       [0.9929711 ],\n",
              "       [0.32016033],\n",
              "       [0.17577358],\n",
              "       [0.9745219 ],\n",
              "       [0.0376893 ]], dtype=float32)"
            ]
          },
          "metadata": {},
          "execution_count": 157
        }
      ],
      "source": [
        "unseen_sentiments"
      ]
    },
    {
      "cell_type": "code",
      "execution_count": 158,
      "metadata": {
        "scrolled": true,
        "id": "B1n1G8X5_QDD",
        "outputId": "9ea85fb3-a21d-423e-82e1-11fba70bf35f",
        "colab": {
          "base_uri": "https://localhost:8080/",
          "height": 0
        }
      },
      "outputs": [
        {
          "output_type": "execute_result",
          "data": {
            "text/plain": [
              "0.86242914"
            ]
          },
          "metadata": {},
          "execution_count": 158
        }
      ],
      "source": [
        "unseen_sentiments[0][0]"
      ]
    },
    {
      "cell_type": "code",
      "execution_count": 159,
      "metadata": {
        "id": "o-gra_v-_QDF"
      },
      "outputs": [],
      "source": [
        "prediction_text= f\"Positive Review with probable IMDb rating as: {np.round(unseen_sentiments[0][0]*10,1)}\""
      ]
    },
    {
      "cell_type": "code",
      "execution_count": 160,
      "metadata": {
        "id": "VkW4nQ3l_QDH",
        "outputId": "982ae9bf-0f37-4fba-fe4f-ba70f55de091",
        "colab": {
          "base_uri": "https://localhost:8080/",
          "height": 35
        }
      },
      "outputs": [
        {
          "output_type": "execute_result",
          "data": {
            "text/plain": [
              "'Positive Review with probable IMDb rating as: 8.6'"
            ],
            "application/vnd.google.colaboratory.intrinsic+json": {
              "type": "string"
            }
          },
          "metadata": {},
          "execution_count": 160
        }
      ],
      "source": [
        "prediction_text"
      ]
    }
  ],
  "metadata": {
    "colab": {
      "collapsed_sections": [
        "EwZa81ThPbt3",
        "q6FO9rxjxHe_"
      ],
      "provenance": []
    },
    "kernelspec": {
      "display_name": "Python 3 (ipykernel)",
      "language": "python",
      "name": "python3"
    },
    "language_info": {
      "codemirror_mode": {
        "name": "ipython",
        "version": 3
      },
      "file_extension": ".py",
      "mimetype": "text/x-python",
      "name": "python",
      "nbconvert_exporter": "python",
      "pygments_lexer": "ipython3",
      "version": "3.9.12"
    }
  },
  "nbformat": 4,
  "nbformat_minor": 0
}